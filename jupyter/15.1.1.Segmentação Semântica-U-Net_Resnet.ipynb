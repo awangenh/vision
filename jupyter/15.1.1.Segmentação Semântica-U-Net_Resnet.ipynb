{
 "cells": [
  {
   "cell_type": "markdown",
   "metadata": {
    "id": "9BU1jV5Guuop"
   },
   "source": [
    "![imagem](http://lapix.ufsc.br/wp-content/uploads/2022/09/NB-banner-PT.jpg)\n"
   ]
  },
  {
   "cell_type": "markdown",
   "metadata": {},
   "source": [
    "# 15.1.1.Notebook para Segmentação Semântica - ResNet50 + U-Net (PyTorch)\n",
    "#### Novembro de 2024\n",
    "\n",
    "### Autores:\n",
    "\n",
    "* Aldo von Wangenheim: aldo.vw@ufsc.br [Review, Maintainer]\n",
    "* Luiz Antonio Buschetto Macarini: luiz.buschetto@posgrad.ufsc.br [Dataset]\n",
    "* Thiago Zimmermann Loureiro Chaves: thiago.zlc@grad.ufsc.br [Dataset]\n",
    "* Rodrigo de Paula e Silva Ribeiro: ribeiro.rodrigo@posgrad.ufsc.br [Review, Code, Maintainer]"
   ]
  },
  {
   "cell_type": "markdown",
   "metadata": {},
   "source": [
    "<a href=\"https://colab.research.google.com/github/awangenh/vision/blob/master/jupyter/15.1.1.Segmenta%C3%A7%C3%A3o%20Sem%C3%A2ntica-U-Net_Resnet.ipynb\"><img align=\"left\"  src=\"https://colab.research.google.com/assets/colab-badge.svg\" alt=\"Open in Colab\" title=\"Open and Execute in Google Colaboratory\"></a>&nbsp; &nbsp;<a href=\"\"><img align=\"left\" src=\"http://www.lapix.ufsc.br/wp-content/uploads/2019/04/License-CC-BY-ND-4.0-orange.png\" alt=\"Creative Commons 4.0 License\" title=\"Creative Commons 4.0 License\"></a>&nbsp; &nbsp; <a href=\"\"><img align=\"left\" src=\"http://www.lapix.ufsc.br/wp-content/uploads/2019/04/Jupyter-Notebook-v.1.0-blue.png\" alt=\"Jupyter Version\" title=\"Jupyter Version\"></a>&nbsp; &nbsp;<a href=\"\"><img align=\"left\"  src=\"https://img.shields.io/badge/python-3.10-greeng\" alt=\"Python Version\" title=\"Python Version\"></a>"
   ]
  },
  {
   "cell_type": "markdown",
   "metadata": {
    "id": "xYi_zIsZt31p"
   },
   "source": [
    "### Verificando a Placa de Vídeo executando\n",
    "\n",
    "Obs: Para utilizar uma placa de vídeo no colab:\n",
    "\n",
    "\n",
    "1) Clique no ▾ do lado do conectar\n",
    "\n",
    "2) Ver recursos\n",
    "\n",
    "3) Alterar o tipo de ambiente de execução\n",
    "\n",
    "4) Acelerador de hardware: GPU\n",
    "\n",
    "SE ESTIVER UTILIZANDO NO LAPIX DEFINIR A GPU A SER UTILIZADA NO CÓDIGO ABAIXO"
   ]
  },
  {
   "cell_type": "code",
   "execution_count": null,
   "metadata": {
    "colab": {
     "base_uri": "https://localhost:8080/"
    },
    "executionInfo": {
     "elapsed": 9,
     "status": "ok",
     "timestamp": 1692273942965,
     "user": {
      "displayName": "Rodrigo Ribeiro",
      "userId": "10521807329412892963"
     },
     "user_tz": 180
    },
    "id": "4XTyqxM7f7Ep",
    "outputId": "90df9022-ebb9-45e2-e904-38248177f1c4"
   },
   "outputs": [],
   "source": [
    "!nvcc --version\n",
    "\n",
    "try:\n",
    "    import google.colab\n",
    "    _ON_COLAB = True\n",
    "except:\n",
    "    _ON_COLAB = False\n",
    "    %reload_ext autoreload\n",
    "    %autoreload 2\n",
    "    %matplotlib inline\n",
    "    from IPython import get_ipython\n",
    "    \n",
    "print('Running on Google Colab = ', _ON_COLAB)\n",
    "import os\n",
    "import torch\n",
    "\n",
    "# Definir o caminho base\n",
    "if _ON_COLAB:\n",
    "    BASE_PATH = \"/content\"\n",
    "    import locale\n",
    "    locale.getpreferredencoding = lambda: \"UTF-8\"\n",
    "else:\n",
    "    BASE_PATH = \"/lapix\" # trocar para o base path do seu computador se estiver rodando localmente, deixar /lapix se estiver rodando nos conteiners lapix\n",
    "    VISIBLE_GPUS = [7] # Selecionar a GPU PARA RODAR! VER QUAL ESTA LIVRE\n",
    "\n",
    "    if torch.cuda.device_count() != 8:\n",
    "        print(\"GPU SETADA - PULANDO ETAPA\")\n",
    "    else:\n",
    "        os.environ[\"CUDA_VISIBLE_DEVICES\"] = str(VISIBLE_GPUS).replace(\"]\", \"\").replace(\"[\",\"\").replace(\" \", \"\")\n",
    "        os.environ[\"NVIDIA_VISIBLE_DEVICES\"] = str(VISIBLE_GPUS).replace(\"]\", \"\").replace(\"[\",\"\").replace(\" \", \"\")\n",
    "        print(\"CUDA GPUS NUMBER: \", torch.cuda.device_count())\n",
    "    \n",
    "os.chdir(BASE_PATH) # garantir que está executando no caminho base definido"
   ]
  },
  {
   "cell_type": "markdown",
   "metadata": {},
   "source": [
    "# Suprimir Avisos Gerais na saida do notebook\n",
    "Suprimir apenas \"avisos\", erros irá mostrar a causar e efetuará a parada do notebook normalmente."
   ]
  },
  {
   "cell_type": "code",
   "execution_count": null,
   "metadata": {},
   "outputs": [],
   "source": [
    "\n",
    "import warnings\n",
    "warnings.filterwarnings('ignore')\n"
   ]
  },
  {
   "cell_type": "markdown",
   "metadata": {
    "id": "3UGvQ2T4Ke9j"
   },
   "source": [
    "# Instalação e verificação das bibliotecas\n",
    "\n",
    "Instalação das bibliotecas necessárias para rodar e avaliar o modelo implementado neste notebook."
   ]
  },
  {
   "cell_type": "code",
   "execution_count": null,
   "metadata": {
    "colab": {
     "base_uri": "https://localhost:8080/"
    },
    "executionInfo": {
     "elapsed": 44870,
     "status": "ok",
     "timestamp": 1692273992568,
     "user": {
      "displayName": "Rodrigo Ribeiro",
      "userId": "10521807329412892963"
     },
     "user_tz": 180
    },
    "id": "nN38nM7qusP7",
    "outputId": "b23bab74-0548-4a8b-ea2f-c97817459ad3"
   },
   "outputs": [],
   "source": [
    "INSTALL_LIBS = False # Setar para True para instalar localmente também (Não é necessário se estiver rodando nos conteiners Lapix)\n",
    "\n",
    "if _ON_COLAB:\n",
    "    INSTALL_LIBS = True\n",
    "\n",
    "if INSTALL_LIBS:\n",
    "    !pip install lapixdl\n",
    "    !pip install -U albumentations\n",
    "    !pip install fastai\n",
    "    !pip install wandb -qU"
   ]
  },
  {
   "cell_type": "markdown",
   "metadata": {
    "id": "egzYIf9MmXiS"
   },
   "source": [
    "# OPCIONAL: Utilizar WandB\n",
    "*   Software para visualizar métricas e compara-los entre experimentos.\n",
    "*   https://wandb.ai/site\n",
    "*   Obs: Necessário criar uma conta e gerar um token de acesso.\n",
    "\n",
    "CASO NÃO QUEIRA USAR WANDB, NÃO EXECUTE ESTA CELULA. IRÁ TRAVAR O PROCESSO ATÉ SER INSERIDO UMA CHAVE VÁLIDA.\n"
   ]
  },
  {
   "cell_type": "code",
   "execution_count": null,
   "metadata": {
    "id": "wLpRPKvyqjLa"
   },
   "outputs": [],
   "source": [
    "# Log in to your W&B account\n",
    "import wandb\n",
    "wandb.login()\n",
    "!wandb enabled"
   ]
  },
  {
   "cell_type": "markdown",
   "metadata": {},
   "source": [
    "# OPCIONAL: Montando o Google Drive\n",
    "Para salvar no google drive execute a celula abaixo para montar o drive e atualize os caminhos de salvamento dos notebook."
   ]
  },
  {
   "cell_type": "code",
   "execution_count": null,
   "metadata": {},
   "outputs": [],
   "source": [
    "from google.colab import drive\n",
    "DRIVE_PATH = os.path.join(BASE_PATH, \"gdrive\")\n",
    "drive.mount(DRIVE_PATH)"
   ]
  },
  {
   "cell_type": "markdown",
   "metadata": {},
   "source": [
    "# Carregar as bibliotecas\n",
    "Realiza o import das bibliotecas básicas do notebook"
   ]
  },
  {
   "cell_type": "code",
   "execution_count": null,
   "metadata": {
    "executionInfo": {
     "elapsed": 12868,
     "status": "ok",
     "timestamp": 1692274016095,
     "user": {
      "displayName": "Rodrigo Ribeiro",
      "userId": "10521807329412892963"
     },
     "user_tz": 180
    },
    "id": "BWzoWNQef7E0"
   },
   "outputs": [],
   "source": [
    "from pathlib import Path\n",
    "import fnmatch\n",
    "import random\n",
    "import os\n",
    "import shutil\n",
    "import numpy as np\n",
    "import matplotlib.pyplot as plt\n",
    "import pandas as pd\n",
    "\n",
    "\n",
    "from fastai.vision.all import *\n",
    "from fastai.callback.wandb import *\n",
    "\n",
    "\n",
    "import cv2\n",
    "\n",
    "from lapixdl.evaluation.visualize import show_segmentations\n",
    "from lapixdl.evaluation.model import Result, Mask\n"
   ]
  },
  {
   "cell_type": "markdown",
   "metadata": {
    "id": "ea93X8MLnBv1"
   },
   "source": [
    "# Importar Road Traversing Knowledge (RTK) Dataset\n",
    "\n",
    "Este conjunto de dados contém estradas com diferentes tipos de superfície: variações de asfalto, outros tipos de pavimento e até estradas não pavimentadas. Contém também situações com danos na estrada (ex.: buracos). As imagens foram capturadas em um veículo em movimento nas cidades de Águas Mornas e Santo Amaro da Imperatriz, vizinhas de Florianópolis, no estado de Santa Catarina, Brasil. Também fazemos grande parte dos quadros separados por suas classes, como dados de teste.\n",
    "\n"
   ]
  },
  {
   "cell_type": "markdown",
   "metadata": {
    "id": "euvoQAzBny7n"
   },
   "source": [
    "## Tipos de Estrada:"
   ]
  },
  {
   "cell_type": "markdown",
   "metadata": {
    "id": "el1JxABKnfpO"
   },
   "source": [
    "\n",
    "\n",
    "\n",
    "*   Background, everything being unrelated to the road surface;\n",
    "*   Asphalt, roads with asphalt surface;\n",
    "*   Paved, different pavements (eg.: Cobblestone);\n",
    "*   Unpaved, for unpaved roads;\n",
    "*   Markings, to the road markings;\n",
    "*   Speed-Bump, for the speed-bumps on the road;\n",
    "*   Cats-Eye, for the cats-eye found on the road, both on the side and in the center of the path;\n",
    "*   Storm-Drain, usually at the side edges of the road;\n",
    "*   Patch, for the various patches found on asphalt road;\n",
    "*   Water-Puddle, we use this class also for muddy regions;\n",
    "*   Pothole, for different types and sizes of potholes, no matter if they are on asphalt, paved or unpaved roads;\n",
    "*   Cracks, used in different road damages, like ruptures."
   ]
  },
  {
   "cell_type": "code",
   "execution_count": null,
   "metadata": {
    "colab": {
     "base_uri": "https://localhost:8080/",
     "height": 539
    },
    "executionInfo": {
     "elapsed": 11462,
     "status": "error",
     "timestamp": 1692295583702,
     "user": {
      "displayName": "Rodrigo Ribeiro",
      "userId": "10521807329412892963"
     },
     "user_tz": 180
    },
    "id": "1ce76uE3CvhN",
    "outputId": "b8b765a6-f16f-461f-c703-8574801ba409"
   },
   "outputs": [],
   "source": [
    "import os\n",
    "# Download do dataset RTK pelo Mendeley\n",
    "file_link = \"https://data.mendeley.com/public-files/datasets/hssswvmjwf/files/2c72e75d-1f50-457a-86f0-a5e3a4174df9/file_downloaded\"\n",
    "!wget $file_link\n",
    "\n",
    "os.rename(os.path.join(BASE_PATH, \"file_downloaded\"), os.path.join(BASE_PATH, \"file_downloaded.zip\"))\n",
    "!unzip -qq -u file_downloaded.zip\n",
    "!rm file_downloaded.zip"
   ]
  },
  {
   "cell_type": "markdown",
   "metadata": {
    "id": "au63uqUvVVhq"
   },
   "source": [
    "# Selecionamos a Rede Neural\n",
    "\n",
    "\n",
    "*   resnet18, resnet34, resnet50, resnet101, resnet152\n",
    "*   squeezenet1_0, squeezenet1_1\n",
    "*   densenet121, densenet169, densenet201, densenet161\n",
    "*   vgg16_bn, vgg19_bn\n",
    "*   alexnet\n",
    "\n",
    "Obs: Temos que alterar o import e o used model"
   ]
  },
  {
   "cell_type": "markdown",
   "metadata": {
    "id": "34Oixs5ootEI"
   },
   "source": [
    "# Resnet\n",
    "\n",
    "ResNet é um modelo proposto em 2015 por pesquisadores da Microsoft Research que introduziu uma nova arquitetura chamada Rede Residual.\n",
    "\n",
    "Para resolver o problema do vanishing/exploding gradient, esta arquitetura introduziu o conceito denominado Blocos Residuais. Nesta rede, usamos uma técnica chamada de skip conections. A skip connection conecta as ativações de uma camada a outras camadas, pulando algumas camadas entre elas. Isso forma um bloco residual. Resnets são feitas empilhando esses blocos residuais juntos.\n",
    "A abordagem por trás dessa rede é, em vez de camadas aprenderem o mapeamento subjacente, permitimos que a rede se ajuste ao mapeamento residual\n",
    "\n",
    "![image.png](data:image/png;base64,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)\n",
    "\n"
   ]
  },
  {
   "cell_type": "code",
   "execution_count": null,
   "metadata": {
    "executionInfo": {
     "elapsed": 2,
     "status": "ok",
     "timestamp": 1692274043483,
     "user": {
      "displayName": "Rodrigo Ribeiro",
      "userId": "10521807329412892963"
     },
     "user_tz": 180
    },
    "id": "O_XaBSOb9eJr"
   },
   "outputs": [],
   "source": [
    "# Definir o modelo de backbone ResNet\n",
    "from fastai.vision.models import resnet18, resnet34, resnet50\n",
    "used_model = resnet34"
   ]
  },
  {
   "cell_type": "code",
   "execution_count": null,
   "metadata": {
    "id": "3TW8qM9ZyRQD"
   },
   "outputs": [],
   "source": [
    "# Montagem do google drive (opcional)\n",
    "from google.colab import drive\n",
    "drive.mount('/content/gdrive')\n"
   ]
  },
  {
   "cell_type": "code",
   "execution_count": null,
   "metadata": {
    "executionInfo": {
     "elapsed": 3,
     "status": "ok",
     "timestamp": 1692274047164,
     "user": {
      "displayName": "Rodrigo Ribeiro",
      "userId": "10521807329412892963"
     },
     "user_tz": 180
    },
    "id": "6PVKtYOAtyMA"
   },
   "outputs": [],
   "source": [
    "dataset_root = os.path.join(BASE_PATH, 'RTK') # caminho base do dataset\n",
    "OUTPUT_DIR = os.path.join(BASE_PATH, 'output') # pasta onde será salvo as saidas do modelo\n",
    "os.makedirs(OUTPUT_DIR, exist_ok=True)"
   ]
  },
  {
   "cell_type": "markdown",
   "metadata": {
    "id": "3YGwEw_FpBiy"
   },
   "source": [
    "# Dividindo o Dataset em Conjunto Train,Valid e Teste"
   ]
  },
  {
   "cell_type": "code",
   "execution_count": null,
   "metadata": {
    "colab": {
     "base_uri": "https://localhost:8080/"
    },
    "executionInfo": {
     "elapsed": 463,
     "status": "ok",
     "timestamp": 1692274053877,
     "user": {
      "displayName": "Rodrigo Ribeiro",
      "userId": "10521807329412892963"
     },
     "user_tz": 180
    },
    "id": "SDBx7S1EpGrm",
    "outputId": "4607966c-b280-47d8-b6be-fe3ffdf19e90"
   },
   "outputs": [],
   "source": [
    "# Dividir conjunto de treino\n",
    "def train_test_split():\n",
    "    print(\"########### Train Test Val Script started ###########\")\n",
    "\n",
    "    src = os.path.join(dataset_root, \"image\")\n",
    "    root_dir = os.path.join(dataset_root, \"imagesSplitted\")\n",
    "    \n",
    "\n",
    "    val_ratio = 0.10\n",
    "    test_ratio = 0.10\n",
    "\n",
    "    allFileNames = os.listdir(src)\n",
    "    np.random.seed(2)\n",
    "    np.random.shuffle(allFileNames)\n",
    "    train_FileNames, val_FileNames, test_FileNames = np.split(np.array(allFileNames),[int(len(allFileNames) * (1 - (val_ratio + test_ratio))),int(len(allFileNames) * (1 - val_ratio)),])\n",
    "    train_FileNames = [os.path.join(src, name) for name in train_FileNames.tolist()]\n",
    "    val_FileNames = [os.path.join(src, name) for name in val_FileNames.tolist()]\n",
    "    test_FileNames = [os.path.join(src, name) for name in test_FileNames.tolist()]\n",
    "\n",
    "    print('Total images: '+ str(len(allFileNames)))\n",
    "    print('Training: '+ str(len(train_FileNames)))\n",
    "    print('Validation: '+  str(len(val_FileNames)))\n",
    "    print('Testing: '+ str(len(test_FileNames)))\n",
    "\n",
    "    # # Creating Train / Val / Test folders (One time use)\n",
    "    TRAIN_DIR = os.path.join(root_dir, 'train')\n",
    "    os.makedirs(TRAIN_DIR)\n",
    "    VAL_DIR = os.path.join(root_dir, 'val')\n",
    "    os.makedirs(VAL_DIR)\n",
    "    TEST_DIR = os.path.join(root_dir, 'test')\n",
    "    os.makedirs(TEST_DIR)\n",
    "\n",
    "    # Copy-pasting images\n",
    "    for name in train_FileNames:\n",
    "        shutil.copy(name, TRAIN_DIR)\n",
    "\n",
    "    for name in val_FileNames:\n",
    "        shutil.copy(name, VAL_DIR)\n",
    "\n",
    "    for name in test_FileNames:\n",
    "        shutil.copy(name, TEST_DIR)\n",
    "\n",
    "train_test_split()\n",
    "\n",
    "print(\"########### Train Test Val Script Ended ###########\")"
   ]
  },
  {
   "cell_type": "markdown",
   "metadata": {
    "id": "chdbIY1xtjqC"
   },
   "source": [
    "# Definindo os paths das imagens\n",
    "\n",
    "Setamos o path do dataset, imagens e o output, onde ficarão os modelos treinados."
   ]
  },
  {
   "cell_type": "code",
   "execution_count": null,
   "metadata": {
    "colab": {
     "base_uri": "https://localhost:8080/"
    },
    "executionInfo": {
     "elapsed": 458,
     "status": "ok",
     "timestamp": 1692274068327,
     "user": {
      "displayName": "Rodrigo Ribeiro",
      "userId": "10521807329412892963"
     },
     "user_tz": 180
    },
    "id": "-nbOHYbKf7FF",
    "outputId": "9caf926f-1a9b-487b-8fbe-8dca5df2dde2"
   },
   "outputs": [],
   "source": [
    "path_lbl = os.path.join(dataset_root,'label') # Path das mascaras\n",
    "path_img = os.path.join(dataset_root, 'imagesSplitted') # Path do split train/test/val das imagens\n",
    "path_models = OUTPUT_DIR # Path do Output\n",
    "lbl_names = get_image_files(path_lbl)\n",
    "len(lbl_names)"
   ]
  },
  {
   "cell_type": "code",
   "execution_count": null,
   "metadata": {
    "colab": {
     "base_uri": "https://localhost:8080/"
    },
    "executionInfo": {
     "elapsed": 457,
     "status": "ok",
     "timestamp": 1692274075091,
     "user": {
      "displayName": "Rodrigo Ribeiro",
      "userId": "10521807329412892963"
     },
     "user_tz": 180
    },
    "id": "4-iR8gfEM5me",
    "outputId": "8d0b7349-e578-4c90-b544-85fa32c0bac8"
   },
   "outputs": [],
   "source": [
    "fnames = get_image_files(path_img, folders=['train', 'val'])\n",
    "\n",
    "get_mask = lambda x: os.path.join(path_lbl, f'{x.stem}{x.suffix}')\n",
    "mask = PILMask.create(get_mask(fnames[1]))\n",
    "src_size = np.array(mask.shape)\n",
    "src_size"
   ]
  },
  {
   "cell_type": "markdown",
   "metadata": {
    "id": "Uq1UkNiKvCrs"
   },
   "source": [
    "# Setando os labels\n",
    "Criamos esse txt com os labels afim de fazer a legenda para imagens demonstrando o resultados."
   ]
  },
  {
   "cell_type": "code",
   "execution_count": null,
   "metadata": {
    "executionInfo": {
     "elapsed": 432,
     "status": "ok",
     "timestamp": 1692274078800,
     "user": {
      "displayName": "Rodrigo Ribeiro",
      "userId": "10521807329412892963"
     },
     "user_tz": 180
    },
    "id": "0w6khsloS-fy"
   },
   "outputs": [],
   "source": [
    "config_file_content = '''background\n",
    "roadAsphalt\n",
    "roadPaved\n",
    "roadUnpaved\n",
    "roadMarking\n",
    "speedBump\n",
    "catsEye\n",
    "stormDrain\n",
    "manholeCover\n",
    "patchs\n",
    "waterPuddle\n",
    "pothole\n",
    "craks\n",
    "\n",
    "'''\n",
    "\n",
    "codes_save_path = os.path.join(BASE_PATH, \"codes.txt\")\n",
    "\n",
    "f = open(codes_save_path, \"w\")\n",
    "f.write(config_file_content)\n",
    "f.close()"
   ]
  },
  {
   "cell_type": "code",
   "execution_count": null,
   "metadata": {
    "colab": {
     "base_uri": "https://localhost:8080/"
    },
    "executionInfo": {
     "elapsed": 450,
     "status": "ok",
     "timestamp": 1692274084765,
     "user": {
      "displayName": "Rodrigo Ribeiro",
      "userId": "10521807329412892963"
     },
     "user_tz": 180
    },
    "id": "f3vbDbwmNFLf",
    "outputId": "5f77ace6-103b-49c4-ac1f-1dd630307750"
   },
   "outputs": [],
   "source": [
    "codes = np.loadtxt(codes_save_path, dtype=str)\n",
    "codes[0] = 'background' # To show in the visualization\n",
    "codes"
   ]
  },
  {
   "cell_type": "markdown",
   "metadata": {
    "id": "ieq8IBDCti-Q"
   },
   "source": [
    "# Metrics, augmentations, data split and model definition"
   ]
  },
  {
   "cell_type": "markdown",
   "metadata": {
    "id": "J_cKTCgHBJw-"
   },
   "source": [
    "## Resize e Augmentations\n",
    "\n",
    "*   Flip Vertical e Horizontal\n",
    "*   Rotacionamento e Zoom\n",
    "\n"
   ]
  },
  {
   "cell_type": "code",
   "execution_count": null,
   "metadata": {
    "executionInfo": {
     "elapsed": 474,
     "status": "ok",
     "timestamp": 1692274100027,
     "user": {
      "displayName": "Rodrigo Ribeiro",
      "userId": "10521807329412892963"
     },
     "user_tz": 180
    },
    "id": "RwzEsSYXvyr8"
   },
   "outputs": [],
   "source": [
    "# Fix seed\n",
    "import random\n",
    "import albumentations as A\n",
    "random.seed(81615)\n",
    "\n",
    "class SegmentationAlbumentationsTransform(ItemTransform):\n",
    "    split_idx = 0 #Train only\n",
    "    order = 2 #After resize\n",
    "    def __init__(self, aug): self.aug = aug\n",
    "    def encodes(self, x):\n",
    "        img,mask = x\n",
    "        aug = self.aug(image=np.array(img), mask=np.array(mask))\n",
    "        return PILImage.create(aug[\"image\"]), PILMask.create(aug[\"mask\"])\n",
    "\n",
    "class ImageResizer(Transform):\n",
    "    order=1\n",
    "    \"Resize image to `size` using `resample`\"\n",
    "    def __init__(self, size, resample=Image.BILINEAR):\n",
    "        if not is_listy(size): size=(size,size)\n",
    "        self.size,self.resample = (size[1],size[0]),resample\n",
    "\n",
    "    def encodes(self, o:PILImage): return o.resize(size=self.size, resample=self.resample)\n",
    "    def encodes(self, o:PILMask):  return o.resize(size=self.size, resample=Image.NEAREST)\n",
    "\n",
    "zoom_augmentation = lambda img_shape: A.Compose([\n",
    "    A.RandomScale(scale_limit=(0, 0.1), p=0.75),\n",
    "    A.CenterCrop(img_shape[0], img_shape[1])\n",
    "])\n",
    "\n",
    "augmentations = lambda img_shape: A.Compose([\n",
    "    A.VerticalFlip(p=0.5),\n",
    "    A.HorizontalFlip(p=0.5),\n",
    "    A.Rotate((-10, 10), p=0.75),\n",
    "    zoom_augmentation(img_shape),\n",
    "    # A.RandomBrightnessContrast(0.1, 0.1, p=0.75),\n",
    "    A.Affine(p=0.75, shear=0.2)\n",
    "])"
   ]
  },
  {
   "cell_type": "code",
   "execution_count": null,
   "metadata": {
    "executionInfo": {
     "elapsed": 4,
     "status": "ok",
     "timestamp": 1692274103710,
     "user": {
      "displayName": "Rodrigo Ribeiro",
      "userId": "10521807329412892963"
     },
     "user_tz": 180
    },
    "id": "5oEQGVwl-M_c"
   },
   "outputs": [],
   "source": [
    "tfms = [[PILImage.create], [get_mask, PILMask.create, AddMaskCodes(codes)]]\n",
    "folder_split = FuncSplitter(lambda fname: Path(fname).parent.name == 'val')\n",
    "src = Datasets(fnames, tfms, splits=folder_split(fnames))"
   ]
  },
  {
   "cell_type": "markdown",
   "metadata": {
    "id": "5r24gVlNoHpF"
   },
   "source": [
    "# Metricas para avaliação\n",
    "## Jaccard index (IoU)\n",
    "\n",
    "O coeficiente de Jaccard mede a similaridade entre conjuntos de amostras finitas e é definido como o tamanho da interseção dividido pelo tamanho da união dos conjuntos de amostras.\n",
    "\n",
    "![image.png](data:image/png;base64,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)\n",
    "\n",
    "![image.png](data:image/png;base64,iVBORw0KGgoAAAANSUhEUgAAAMgAAACZCAYAAABqinXMAAAABHNCSVQICAgIfAhkiAAAIABJREFUeF7tfQdYU9f7/8teWZCEvffGgQOcuPcWrdV+bWtt1bbaqq3221Zta61atdZax7dW68a990RUUFQcDJlhBBJGAgkJYf/PiT/7dwQIyc24mvM8eXi495z3vOc953PPegeAIRkkYJCAQQIGCRgkYJCAQQIGCRgkYJCAQQIGCRgkYJCAXkjASC+40C8mLBE7XhQr8yCqjZm7DcWCZmxqTLMwNaEYmxrRTQDkMmsyAmkzQHVTo5GkGZrENTVNopy8sofoFQf9itGvUcvNskH1edhaW3s5MSmBJiYmLBMjI6aJiRHD0tzE/EVeqmV1xg1NzeKGuiZpbUN9oUBSny2SSApQHi76FaJfg5Z519vq3maAOLHtrHq6uNCHMiiWjrYMayqdYUlztLOihQTZU/092bYmpmBMo1qAlaUZ2FibAZ1qCcbGz0Qmq22AGlk9+jWADP0k0jrILaqsS39aJsziCCVikUwkkdaLKoQ1wqrK2hsZeaXn0ChIR78mNUeDLQJBlKsDbQjV0tTLlmJjR7cxt3Nk2NgEuLAp3o52dFcW1ZhmbQF09LOxfAkb/1ZdW98AImktlIukUCGuAX6VVFbArxSnF/KrKyV1VZViaVVZtaxQIK6+VFAmTkAFc9EPfRPervS2AMTE0tIyOsCLNoluaxXItrNxCPZjM2OiPe0jI5xNqBQLjfV6U1MzZOZWwM27+YLEZC6/VFBTVMIX5+UVCU6Wl0svoopr26jc2YvNHOdgZzXMkUlz8nWks/pH+Dh09nEyY9PxpKG5VFNXD484vOb41KLye9nc8qIKcUmluO5OakHJAVRrCvq98YB5kwFiExzAjmXSrd91cab4DB8Q4DS4j48Fm6nZQaXMcK2vb4RbyYWNx86kF2fmCfN45dVX7j8q3obKFuHyNGvrLt5OtNlOttTwTl5OTmN7BDh29HY2MjbSfXfll1bC+Xu5VeceZBcXV4jy+ELpIU6ZAANGokzbyZZH9xInVmI23m627zk6USYHerPcp4wJc+kd5WFmZoZ2DnqcridyYMmaePGT9EozcxOTxhGd3I2WTelr7WRH1WOu0UalsQlupuU3bLucUpBRUJZTWCH6H09QfQwxXa/XjLeDuTcCII4sSl8XJ/oCf1+7wE/e6+LRq6ubqZEefG1b64fm5mY4dzUbft18F27d5UBkZH/o1XsyCAQ8uHFtDxQUZsHEHiEwd2QkRHg5tkZKL97VNzTC5Yd5sl1XH2amFZQmpuTxVyLG8L6F1InMADEL82fPZLJs5sSOCvWcHhthhTfT+p7wZn7XoUewdmsy1NaZw5Bhs6BXr3FAoTBeYp3LzYaLF3bAlcv7oLOvM8wfHQnDIv1AH5ZZbcm4UiKDLeeSuScSM55mF4tWlYpE59sqo6/vyQgQC38P9nx/f8Y7c97r7je4n7eFvs8WuPPF1bUIFImwbusdcHcPgBEj50KXLoPAyMi41bEhk0nh+vVDcO7Un2BpXAv/ndAdJvcOBVOT1su1SlRLLxubmmBf/JOqTWfv5XIrxH/k8wXbUdWk2tiTCSDmfl7shWGBzNglC2OCwgMd9H+6QKMBHwf/+U8y/Lz+Jri5B8PE2G8gOLh7u4doc3MTJCQchyMHV0FzvQh++3AAjOke2G46uiiAl5PHbqfXbjx1J1dQW/fDg8zi/brgQ5U6SQGQED/2dA93xsKfFvX37xjiaKpKQ3VR5tCpNJj7/SVgsb0hdtJ/ISQkWm02MFDi44/Avj0/gr8jBdZ90E++BCNDwkCJS0iTbD579/HTfMHnPJHorr7zrdcAYTAYHQJ9bDZ8Nbtn2NihQXR9F+Zz/vC9x+zFF+BxhhD+M305REePIpz1ujoZnDq5GY4e+R3GRwfCmg/6A5NqTXg9miCIN/S/n0isPJaUcTshrfBDVEeJJuohgqa+AoQW5GO/+b2J4X0WzI52NjXV//U27gx8v7F8fQKs2nQbhg79ACZOXAiWlpodtGKxEPbuWgbJd07LQTItJhzta/S1W18esgJ0g//Z/87kJGeX/JlZWL4OvdW7/YneSdLH2T7ay5eyefPPw4N9vJn6fYHxQn+npPJg2ucnwdjUCWbN3giOjp5EfMCUppGengRb/5wLPiwz+GfeCHBh0pQuq+uMZ+/lSH/cfzUlrUQ8taqqKk/X/LxYvz4NQPPO4c6b58/punTt0iFedrbWpJg2sCrJD2tvwMyvzsDQYV/ARx+tBirVVut9zGa7Qr8BUyGDkweLNu0ELwc6hLjba50PVSr0c7Yzi+0V4lZUJow1MTarLxZUJalCRxNl9GIGsbW1dY8IoMdt+GVY51B/e1KcTuHOKC2XwORZx6EAraC/nL8DnJ19NNFH7ab58GE8bNwwG4Z2cIPNs4eClTlpRApHbqWKVx5OvHQns/A91PDqdjee4AI6BwjSl3o/Jtp7yZolAz0szElzQAXXb3Ng0ifHITxiMMz4aCWYm2Mtef1JVVXlsG7Nh9AkKYKji8aBj5Od/jDXBifFAjF88PuJjNTc8tgiofBxG9k1+lqnS6wOwc6rZ07rtGDp/L7OZLj4et4T2/Y9gKmfnoBp7/2Ejm8XggnSi9e3hA8HeveJheKyUlj053Z0FOwIPo7kAAnVygJie4aw0gr5Q8U1TUJhtQTb2egk6QogVp3DnE9vXjls0thhwaTZTeJz/MUrrsMvf9yFb/67F92ED9ZJpylbKb6lD4/oA0y2Oyxc9xuwaFYIKE7KFtdpPhNjY3wRyjAyao4RSGoY3HLRZV0wpAuAMLp3djm7e/243uGhjqRZHNehI9x3Zh2DyzcFsHTZcfDwCNZFf6lUp4dHEISG9YYfN60HgUgC/SM8SXMU3C3AxdKZRe2cwxV24ApER5EA1DU4a5cMtQoQNpvtGNXZ6fqhrbGd3d0YpDilwtLEloOj3z8MOYUW8P2So2BrS47ToRdHApPpBFHRo2HDzi2QxS1Fio8+pAGJnxPTrFuAq3/iU25PnlCMbU+0Zs6sNYAwmczAbh2Y5w//NTHQlm7VLhTrMjNWMhzy7kEQSlhoWRUH1tb6baPRmqxsbGjQPWoUbIv7Gx5kF8KoruTQDsZtcmDYGA+N9PG6lVY0EM0kGCR1rbWVqHdaAQiLxXKO6sQ6c3DrhABrK8U20kQ1iEg61ZI6GDB5HzSbeMNXX+8CCwvyALslOVhZUSCqxxjYf2Iv3EnPQev8ANLMJHQbS6OBHXycb6YW9CkWivehNmrcuYTGj3mtrKxcenV1vXhse2wQGew1ng8sDI7+k/aCNTUcPp+7pU219JYGpL4+l0rF8OPSsdDZ1RR2fjGKFHYmz2XJrahqHrviwK27T7kD0DOZJmWs6RmE0S3C6eKRv2NDNekYgWgBYZ2q8TOOgKTWCeZ98bdeHuOq22YzMwvo2m0E7Dq8A3jlFTCgg5e6JLVWnmZtadQn1MMtJZfXvaCsai+qWGM6XJoEiGXPSPezZ/ZO7cqg6dclWls9Oeeb8/A4ywgWfxOndxeAbfHenvd4ydi5y1BY/b+1QLMygUiSqM3jNiLNZaNOPs7ud7O5PiWCany6pZGkKYAYdwh1PHpgy4QYBzaFNKdVWMLY6m/HwRxYsvQY4E3tm57woQM+Av5m7QoI82BBgAuLNE12tKUY+7uw/Z7k82gIJJc0wbhGABISwFq54afhEyNCHDXncEoD0jh+PgO+WHoFli49Clj5721JtrYO4I7udRb/tgbGRQUCk6ZZFX0i5erlwDCT1TX55WK3XRLZEyJpY1qEA8TPjT19/uzor8YNC3rZCwHRnBNMLz2rDIZNjYP5C3aAn19HgqnrPzmsaFnfUA/r9u6H6f3DwdyU8KGhMSGgy0TKw8LSLpwK2SWZTFZKZEWELn/YbJpvVHfXpTOmdCLPPI2kKa2ph/EfHYXRoz+H8PBeRMqXVLQmTJwPto6hMG3dScBqNWRKmz4e7tHZg7EL8Uzo9EfkZ8IkMtTpZNzWCaFksQB8PgA+/vocVEqdYObM1aS5E9DE4MWWiB07D4Dt+zeBtVkzdPEjh607lgXW3eoR5GGf9LTYh1shOkyUfAgDSMcwh0071o0Z6ehAJXRWIqqhLdHZd+wx/LH9MXz73WF0EUjox6elKvX6OT7+9fXrDN//vgrtRwKQgiN5ZGJHtTJiUK080jj88jKR9D4RgiYEIO4u9P7TJ3T4ZsywIFId+/DLqmH4tAMwe85GUikfEtHxrdFAig/yJdbGuIMwY2CE/OtMlhTsxra4n8sPLRTVH5Li21A1ExEtt/D1tF3/1ac99d8/5ivCmvnVOegcOQw6duynphjfvOJjx30OMmM6rDh8i3SNWztjkLcPy+pvIhhXewbpEOK8aeeGcYOYtlYaV1shosHPaew//gT+2psGixbvAbysMKSXJYBtSfz8I+GHDSvlboXItNSyMDMFBzrV4X42l4din+AwDSontWYQR0e7kGEx3sPQDKIWHZW5V7Eg1tCdt+QyzPx4LdLOJdWqUMUWq1bM0zMEho+YCR/+cZZ0p1oju/lRgz0dvkYtV+u6Qa0ZJCyQfXTH+jEhJiTwE/viEPl6+VWQ1nsiv1ULVBs5b1GpwKCusO/wFnBmmEOYpwOpWh4d5Mq88pBjz6+sPqEq4yp/+f182NMXzoqKMNfz2BuvCgZ7Pfxrz31kT77s1VeG/xVIAC8/p0z9HhbvigdZnca1yxVwoPojNxbDaHgX/6FMc3OVnRirChAzLzfafOQOlKI6+7opOX/ZFeT18ENwcvLWDQMkrLVHj9FAZ3rAuhOJpOP+28m9nPy97P9QlXGVABIWZL9o1beDVEalqsyqWw676rl5lwvjJ3ypLqm3qjy+QJz+4QpYfuAmlFaRK9Ia9gk2JSa8I4tB6aNKp6kCECt/b/aUiGAH/fN104YEFq+IR3E55iB/ubqPU9gGq3r32ts7HCIiesPqI7f1jre2GJo1NNLO34n5c1v5FL1vN0A6Btov/G5eLz9FxPT5WXxiPqRnVcidShuSahIYj5xxo2A4IKyuUY2Ajkrhi87/9IsIcbOzG9ReFtoLEHN3L+YkpMau1ulXe5kkIv+KDUkweszngG2yDUk1CXh7h0FEeE/4/ZTeh/V4rYHvD4igezjYLH7tRRsP2gUQdHL18YKPokg3e6RllsGNJA4MHDitDXEYXrclgRGjP4MNp5IBx1AnUzJD6vsjuwaE2lEoIe3hu10Acba3eb9nd3fSOHt7LojftyWjCLLjkIUgaWLwtKcPtZo3KKgbipjlBnuu6dRlrkptnjW8C8vbibG0PYWVBoijIyNmxtROvu0hrg95hVU1sPPQQxgx4hN9YOeN4GHoiNnw51mductVWYbY52+EJ7szIqD07brSAPFyoXwZOyKEdF7T9hx5DIEBHcHFhXQrQ5UHgqYL4nsRTlkV3M3iaroqwukvmtjTM8zL/jNlCSsLEFpYsFMI2W7NsRC2x6Wh5dUUZeVhyKeEBExNzaBnz/Gw7dIjJXLrVxZfJ6aRqy11pLJcKQWQUD/HmZ9M6+ipLFF9yfcwjQdZueXQo8cofWHpjeFjwKD3YN/1J1BbTy71E9wBQyIDfHGAWGU6QymAsOytR3cMdSaVOjtu/OHTGcg52pA32reVMp2siTzu7oFgh5x4X3iQownyGqX5bt9QWy+m9TxlKlEGIC5dwh3J43bvhVYfOJkF3bqNVkYOhjwqSKA7Wmbtvp6hQkndFsHhsp0Y1p2U4aJNgAR62U/+T2wEeaz3/6/VGdnlUFQihA4dVFLBUUZ2b32eHsgJ9rl7mdDQqNWQHYTIfVAnfzcbG5uwtoi1CRBHF8rgkAAHEi6v0qFL5ACDtWBbI0CN966ufvKIvjfTC9SgopuiE3sGMfwcqB+3VXtbALHwdmGQcnl18mIesjcf3lb7De/VlEBk12FwPClLTSraL+5sRwU2lYLvRFpNrQKETrfpNWJwAOl8cGKT2vuPCyA0NLrVxhteqi+B8Ii+cPYBR31COqDg68LAARtbtbluFSDebvRJ/aI9yOWaHbX46i0OuLt5AYNBvlBpOhgnalUZHNwdsov4pLMTwY0e2z3QxdWegmOMtJhaBYgDyyqQTrLQBbilt+4WQXBw7xYbbXhBnASwbY2Ppx/czigkjqiWKEUHuZuyKNSxrVXXGkDMnBzp5IgZ/EoLbybzkHfAyNbabXhHoAQCgntCfCr5AGJjaQ6OttaerYmiNYCE9o12Z7dWWB/fNTQ0wb2HBRAQ0Ob+Sx/ZJyVP2H9WYiaflLyzaVTs8LBF+6YWAYLuP/pFhru0uoHRR4ng+w9zCwuwt3fXR/beSJ6w/6wnnBLS+c7CnREV5MJEf/xb6pgWAUKlmUcF+OCy5EqpmaXg7Rn4Vntp13aPOTt7Q11DA3BKK7Vdtdr1dfF1sfVyZvVoiVCLAGHZWbHI5hAONzI9qxwcnUnncKWl/iHFc2NjE3B39Ya0gjJS8Psik4FuLLC1NI1qifEWAUKjWihtVNIScV08f5whBFdXA0C0LXtHJx/ILK7QdrVq10dBG3WKtVWLd30tAcScSbckJUByOJXIKRwpL//V7mxdErB39IEcHvmWWFhmdIp5i2O9JYC4BwawSOn+AysoslgtfhB0OYbe6LodHT0hh19NyjZSLMxatJRtCSDOHq52pDvBqpHVg0AoRgAhnfIxKQfWi0zb2TlBiZCcAGFQ5J4EFcbAUAgQd0eql5O9Dem8lxTzxGBtZWXwfaUDuDEYbOALRTqoWf0qvRzsrBAVhZfiCt2HUu1svNlM4t1zHjqVBhNnHgBXJxpw7swDok/JBJU1QKPpj2ufW7dOwurVM4DJdIatW5MBn/aom7ZuXQxnz74cPAmrnLORKx5sWjx69CwkV4Xdqm7VrZa3RdaF5ZUi+V0I9uWravp08xnYePrOS8WxgZOHPR1ie4bA/LHRYEpwuA0XFNgQVWiHfpxX+VYoSVMwsrelE6+juGVXMnTr5ApJ94vg7JVsGDGwxfuZV/lU6v8qcS3yfdXiclIpGkRmunBhJ/j7d4LMzPtw//4ViIwcSBj5JUviwNTUXE5PLBbArVsnYNeun0AkqoDp05cSVo+yhLDPsYbGRpDU1gM+GVI3nf9h2r+x2ivEUjiYgKKB/XMJUHBO+PWDdnsQbZUdNNatLC0tGSjG+mv5FC6xjI2MaDbW6jfyxdpyOAK4nJAHX8/pIQfJ1t33XmNG3QdVIhnYWOsHQHg8Djx6dAPGjv1MDhIMFiJTSEiUXJ0f/6KiRsD8+VvR8bYfJCaeIbIapWnhOCLGyAeuRFandJnWMvYO8YC+YZ7y3/joYNj/1QQIcmPD0dvprRVT6R3D2tKEbm6uUPVb8QxiamxBdKzzLQgQKI4hDB/gDxXCGvjk61PA5YnAxZG4swCJtB4s9MRz+/nzO+XWdnjWEIuFsHnzQqioKEHLLYVLXWhqapQvnRISjkNNTTUEBnaBCRO+aNeBg7m5pU5DWVtZWIIUzSCaSpYo9qC1BfFbY6y0aGNtYgsKtlAKZxC0NyCUi7r6RtgRlwLTJ3UA7Ftr8uhQtJk2g7/3PSBUlk1NzYSs89VlqqGhHq5c2Q/9+k1GyyAz6NVrDBq4VnD58r4WSW/c+CVwuTkwd+4fsHLlWcAuPpcunQiVlYpvpxvRcqaxsUH+q6wshSNHfgcOJw2Bam6LdWj6hbmZOWFRqBqbmuS27vjHQ6djvxxKgEccPnwzsRfhzUArJjDBHaUgKZxBjI3RTovAdORMOpQLpDBz6jMNW4qNOUwZGwbbEED+O7c3GtSqb+peZBMLFU/zuk6Jiafl+4JBg545y8Y2E72Rb+BLl/aguIjz0Cb2ZR6fPk2Gqqpy+PbbPf+y3qfPBLTZNoO9e1fA7NlrX2vSO++8fBmKAfj++8uQF5dhr+XV1oNmUG+D/iKflIkvh/PAM8eaDwfB2CjitSTw+DNqblZ4gqIQII24pQSmzTuToU+UB3i52QJWR8fpw3c6At60X7ieA0NifAmpDcMaNZUQWuoQOXfuH8B7BKxRjL/wOA0Y8C7gZVdKyrXX4rLfvn0KAWj8a1XiU6lt27597Tl+sGLFKfnshJNMJoXc3Edw6NBvcvrffLNTJzPpsxMshey2++HNVR/+u0mvRvua+zkl8POBG3I/XCe+ewdwzA+iEp5BwFjxwFEIkOZG4gCC1c9x6DOczNx/eK1NeLNOFEAszE2grr72tTq0+YDLzYLU1FvyKidMcHmt6gsXdr0GEKGQDw4Or6vn4+NSKpUh35O8GtfExyf8JY8teLPu5hYAP/wwGeLjj0DfvhNfq1vjDwj8QHXycQJL8/8/PPFmPQSZJw1Zshv2Xn8M02IiCGsO9g7Z0NQoVURQIUAaG+vr1T3Pfl4ZBoAdwwrO7Z362vn48fMZ8MsfCcArrQZHe/U1W/DJW12twnYqartGnmEAUCgMwMewr6Y7d86hvcIG+Z7hRXt5vEFv6e4CL7Pwe2WSj8+zQZOX90QnAKmprQEbS4VLeWXYbzNPZ99nGhIpuTxCASJBGhgScaNCRTKFAGmCZmG1pA6oFIW372025HkGWW0D/HMgBSaODIEuHV7/mnq40uUA2R73ABZ/pv7mC2/8ZToESD2ava5ciZNf2Pn6vu761d7eTQ4QvFkfP574zXRm5rOj85ZOypTuOBUy4rbX1dcDzVq9MdNa1YlPi+SvXZjEnXxiejX1dc2VtbVCRXUrBEh9U1M5vnRTFyAHT6YCvt1+d5xiB3b4tn5gbx/4a+99WPRpz9dmGEUMt/aMTrMAqVR3+kA3b56A6upKhfsJzDeNxkSBMPvAxYt7YNy4z9Vqb2rq7X8vCvHgLCx8KgcfvrWPiZnUmpg08k4qFQNeyxNxSYgZjE/N/3cPgpdAqcjWZCU6yXJl0eA//YlbXuG6BCKZrLa2tkqRYBQCpEaG1GrQwMYqIeqkLbvugYcrA3p2fX19/Zzu1PHh8O6cw3DpRq4cLOokB6SALBDqziYBb8LZbFf5EW1LCZ9OrVs3C10ixsvBghNW9DM3x9oOrye8N1GkorJs2f8HAb6kY7Fc5MsqrGqC71+0nfCHgU6hqAX6F3ke/P2uf//FexE3Fh2m9YuA+WOiAKueEJkKSqvEiB5PEU2FRz7o2n3A0W3jzw6J8VMIIEWE9OGZRFoHFN+fYf9+jvzewZC0J4HHjxNg/99zIXXDDO1VSlBNc7eeKfj95B18fvxa+F6FZ2VIJ6UwmyNQOOUQxJNGyOBNujUKs9XS5ZpGKjUQlUsAawlgd55kTAKJDAPjNXDgtigECHrORQBRWEDfBeDuygI+P1/f2Xzj+BMISsBNAxrg2hCUWFqv8ASrNYBUl1bUkG4GwQ3y87KDkpI8bcjVUMcLEuAVZ4G/c4uWq3otK1GNrN0AAVGVTKDXrWqBOV9PKppBOC28NTzWlARKuJkQIHcxRa5U19AIQrFMscIbakpLSywoq6gpx5eFZEtBfkwoKU4jG9uk57ewKBcC0fKWbCkLeWKprqlt0faiRYDU1MpSC7jkW2V1CHFEekmpZOsnUvOLN+j4Ft3XCRvlkSslPuVWZpcIrrTEdYsASc8Snkm4UyhpqaC+Pg8PdpDfhRhOsrTXQ1lZ9yHc2w3MTBUqxGqPERVqup1ehLcSLS45WgRIQ0PDg/hbeS2uzVTgRStFLNClkp+3E2B9JEPSjgRyslOgqy/p/JzLhcOvFJejPy3Gsm4RIKiQrKi0mnQAwY3u3c0F0tMTtTM6DLVAbtYd6Oqn2FJSn8Ujq2tArookrd4JtAYQ4JVJcrHCIdlSvx7ukJEeTza2SclvXZ0MUjPuQ0z4ywZcZGjMvazipmKR+HhrvLYKkKISSdyN2/maMzJujTM13vXo6gaZWalQizaOhqRZCWCPLfYMGriz6ZqtSAPUz6dk80pKRZdaI90qQEpLKy8cu5DJbY2APr7DjiA83Zjw8KFhFtF0/zx8eA0GdSTf7IHlcj+Ph8NitRr5p1WAoMKS7Nxy0gEEN354fy9kftrqx0HTY+etoP/k4WUYGOFBurYKq2uguKL6cVuMtwUQ4PJFV7FPK7Kl4f194cH9i2Rjm1T8lpcXQ15+Jgzt7EcqvjGzZ+9ni7P54h1tMd4mQFKflm3Zc/hRSVuE9O19r27uyPy2GnJyHuoba28MP0lJZ6BvuI9GrQg1JayTiRkFYrH4dlv02wQIIlCUkFz4zNaxLWp69N4M+d8aNzwIEm4c0SOu3ixWkpNOwPjuvqRrFPaSksUT4i/nMxc7rbRAGYBAAVd0hVMoJJ1i1uTRgchn7RHkULlNObQiIsMrRRLAy6uMpw+Qn6ogRa/1+tmhW+lVmTzxH8owqRRAnmaXrd2wPYl0s0jfKE/kP6kBnjxpcyZVRlaGPC9I4OrV/TAkMgBYNGLNX7Uh5KO30vLR8kqpm2SlAIKYLr19j5vbiNxAkinh8Aozp0bApYsvhwsgUxv0kVc8I1+9tBM+HkSs8wRttDWPL0Sh4irOo7qUWhEpCxDg8aV/Xb7F0a1XNhUkOD02Au7cvSj3NmJIxEggNTURmhpkMKCDNzEEtUjlj1NJhan55auUrVJpgOQVVOzZsv1OhrKE9SWfpxsDenf3Rm4//9EXlkjPx5lTG+Gz4Z0JD2SjacFg46g7T4vxGMYKikolpQGCqDU/zas4+TSnglzrLMT4ojld4fTpTYD9RxmSehIoLMxELotuwuxhzxyRq0dNu6W3X74vyCot+649tbYHIIDuRNas2Xortz0V6EPemB5e4O5MgevXD+sDO6Tm4cypTfBeTDjYUsjlVglbx+67lprBr6hJak8HtAsgiHDl7fuFF4v5IqU2OO1hRNN5F3zSBU6eWK+0n1tN80NG+tjJ9o0bR+HzkV1Ix/7pO1kS5MlqY3sZb7cJWGmZ5HaNtH788IH+pLKvDA20h+37kemxMQ28vRW7Qm2v8N62/LsvqwuAAAANh0lEQVT++R66uhrBjEEdSdX0JjR7fLzx5KOHObzP28t4e2cQTF+QlFIUX8LH3hrJk3CQlGULesChg6tQjBLSafDrXNA45uI1tERd+o76Tsa13ZgDCalVhTzRUlXqVQUgcP8xb/6CH89nqVKhLsuMGRIIdnRj5Dx6ty7ZIGXdhw/+CpN7haJwzOTyfYWjjm05l5yeWy48rYrgVQIIqqgy5Unp3uQULjEhTVXhXIUyeBZZsyQGDsStAImEfB5bVGgyIUVw9KokFFbup6nPnG0TQlRLRH47lliazuXPU7U6VQECaZmlPy9ZfTVT1Yp1VQ5Hs+rV3Q3i4n7RFQukqhffmm/5cx58P7kX6XzvlqOY6vtvPLnd3pOrFztIZYAgInXpOYIf9x15TDpjkV+/i4GrKAotDpdmSK1LAIdza6gpg89GkO/k6rvd1zjJ2cVzWm9h62/VAQjkFQgOrN50K6msglzus/y9mfD1p1GwZfM8g6ZvK+MD+xbb8fc3sHHmILBAMcrJlG6kcWpupOZtRjyrZRHb7mPeV4XEK6u+VlJaPWbcsCDbV9/p8/9RnV1h8z83UPBGS4Xh0vSZd23xtmH9JxDtZQULxkZpq0pC6sHufN5ff/xOclax2sFK1JpB/q813ITEog0nLmSSShsQG1RtWzMUdu1chpZa2YR0zJtEBF8I5mUnw/oZA0nXrEU7LxdnlYs/RoyrfaGt9gyCpVcprknMyC7rNWZwoD/Fxpw0AsUh5nBUqu2741BcvykKQ52RpjEEMopvzH/5eQrsnDscQj0cCKSseVIn72RIt124tzq3qOIoEbURAhDMCArlfCErWzB68pgQFo7vTZbUp7sH7D2SDEXFZRAe3pssbGuMTxxyetWKKTAohAlfju6usXo0QRh7Kvlow+lbD3J5HxFFnzCAIIak0hrZoypxw6CYaE/1on8S1Tol6OC7kf49PeCrpdvA3T0EnJ29lSj15maJ278K+JxEOLp4AqnU2bE6ydS1R3MuP8wZinqHsFDHRAIERNV1+WUVUqqXG6OLnzeTNGstW4YVBPszYfGy36B71CigUMh1W0wUXJOTL8LunUvh8o/vgoMthSiyWqHz1T8XuVfTsmMrRbWE3s0RChAsCXTkG5+dW9FrSD8fHzrVkjRrrUBfFlRLamHr9p3Qu8+kf2OQa6V39aASDicVfl7+Duz+chT0CHLXA46UZ+FoUnr1josP1qTnC+KUL6VcTk0NYPOoSLcbx7dP7somUWDHpqZmmDjzCPK4x4KFX+15azbtlZWlsPirgTBveBh8Pb6HciNHT3IlphfWfbb57K7kXPWPdBU1iYhjXkV0624nF46eMudQel19o6L3evkM70d2/zEKmuo4sB1dkL0NCTv4Xv3LVBgc4UI6cOSUCJs+++v8RQQOwjblr/Y54UusFyqoFkvhZsqTksH4EpEsJ1s4StKYIX7ww69xIKyshLCwN/dkq76+Tg4OJ0sR7J0/BrlI0tT38tVhp/7/AnENxK46lJKUUYg35RqzX9AkQNCxlownFFfHP3jCHzh2CHlAYmNtDuOHB8KyVbvRPYkUQkLItexQZvhhcKxEdx0s0zI48d+JYE6i8GkV6Ms7Zvm+hzfTCmJQWzVqmKRRgOCOEovreVWS2tRCblXvIX19SXM8RKdZwuA+XvDt8r/B2MQC/P0jlRl3pMjT2NgAGzd8Cg2VmXD6+1iwMjcjBd+YSew2dOzy/enxTwoGo381HgFN4wDBjaqqqs3LK6pIfPCYHzN6cKAdXuuTIdmzbACdxsF/f9yCgvHUQXBINBnYbpVHPHOsW/MhiHgP4cKyycCwsWw1vz69rJLIYPgPe1Pin+QPQ3yppYSobLu0AhDMjETSwOULau4+TC3pjUDCJAtIHNgUGDXYDy23/kGRcyvQbXtfZWWrd/lkMinac0wBsxoOXFw2hVSeSYoFYhj1U9y9W+kFA5BgS7UlXK0B5BlI6oqE4rr4G0n5MSMH+rPMzbVavcoyZdlZw7ihAbBqw0HIyU2HTp0GkO4IGKuu//xjLDhaiuH0d5OAamWhsjy0XTCPV9k0eeWhu4lP5Rtyrdof6Wqtw4zu4npi/6bY7m7ONNIcnYira2HCzKNQxLeCrxftARqNqe2xolJ9WVkP5KdVswaHIacLvYEsJ4q4sSeTMiVL910/eT+HOw39q/WIsrr6hNcUFosOJtwt6BoaZO/s5kQnhTUOjsEeOzIQEpOzYNe+7egIuI/egyQx8QysWf0+/DytFyxEdh1kAseGk0llvx5O2JHC4c1E4NCJR09dAQR/HOqKeeLdiSklZkVcYWBMD28KGTrPFHmMx0fA0CyD739aAfYOXuDmFqDSl12ThRob65Fe1TI4FLcSDi8aB7E9QzRZHaG08UnVlFWHs+NupH2ZzROsI5R4O4npEiByVsuQRSIK0JN/825hh8F9fZiWFqSYTKA7skjs1c0Vvv3xdygqyoZQdKFoaqofx6VlZVxY8dMkqCl7Ald+ehc6+Ti1c1joLntWcXnjmJ/2P4pPL5pQWS2N1x0nz2rW1R5EUbsZnSNcdi2d37fPiAF+VEUZ9PEZlyeCaZ+dhOz8Opj3xV/Ia2O4Ttm8fv0Q7Ni2GN7vHwa//KcfaS4Asbr68v3Xy44mZcQ9yOF9iYSosdvx9nSQzmeQF5iVIW+N+5+k8s0yssp8+kR70rFZrL4nGsUC3psYBkZQC0uWr5T72woK6g4mJtqdCQUCHqxf+xHcu3UA9i8cDR8P6Uwa1ZGCsiqY+uuRnGuPCj9PLeCvRX2uk/2GorGmTzPIi/z5hQc7bFq+qH+XEQP8SWN8lZlbAR8tPAe5BbXwyaz1SEVF8xeL2ALwwoVdsH/PcuR1PRTNGjFgbaEfSz1FA+7FZ7X1DfDDvutllx/nH0nKKPgCvatpq4y23+srQORyCA1w+DzAjzln7ZJBfu4uDL3m9XnHYTf7uw49gi+XXYEOHQfCO+98C0ymZvYAjx8noOXUIrAECfz5ySDoE+qp7fGjcn0JaQX1S3ZfSy8WSudmFPGuqUxIwwXJMOio4aEOawf39hv8/Re93cjiFALZ6MO3q67D/mNPYMTIWTBixMeEWSpi46YD+1ZARvptWI7cgc4k0XLqcR6/adE/l59yKyrXP+SUbkXjW23PI5rECBkA8rz9PuEh9r+MGxrcfcEn0a5Y45YM6XE6Hxb8eA0S7uTDsGEzYCQCC42mWuQIDidNfmz78FE8zB3ZFfmr6k4aXar80kr4+WA8514u/8y9TO5XqO9I4W2QTACR48HJiRLk42G7ZmAP306fzejqYEsnR6SjxHtFsGTNTUhI4sCQoR/IwcJkOiuF8dTU23D65EZISYmHj4dGwjcTooFNt1GqrK4z5fKEsPLwDc79HP655CzuIsQPqbyGkw4gzzvc1tbWPcSPsiIs2Cn6i4+6efp5kUPt424KF1ZvSoKTFzIgKmoIDBs+R6FnR6x1m5R0Bs6c+B1KSwtgztDOMAf5x7UnCTCuPuKI1p28nZFZKDz/lFv6K+o3ka7Bqkr9pAXIC42l+nrazvb1sBs+ZXx4cOyoECZWCdH3VMCtgg1/34Vt+1LAztYRevd9F3r1Gg98fgHEX4+DmwnHwJ1Ng0+HdYT3+kWQwmYDa9z+eSaZf/1JXha3TPS/vNLKPagfyGNzrWDQvAkA+bdZzs7UaB83uy883OhhE0eEeKCbeUt9Bwu22T91MRN+++t+8627uUY2llZN46MDjOeN6grhnvrv1ZAnrIbjt9Or4tPy8zK5ggTkTX0l6pAiBWONlI/eKIC80AMmDg7UYW5O1A883ejeg/r4Oo8bGsRi2lrrTScJq2rgUnxuzckLT4tzOIJ8nlB6MjdXcAoxyA91tx9tz7CZ6MykBozo4uc2pJOfNV1PDJtwrPH4x5yG/TdSudl8Yb5IXHPiQR5vF+JbazYa2uzENxUgr8owJDzY6V1HtnUHe7a1R48u7o49It3tgvzYSH9KO9r2+UWVkHS/UHrlFqc0r1DELy0Tp2XlVe6RSGQJiNmWArhb2DMZQz0YVtMc7KiuLkyqfUy4p323ADdrTy2FQhNJayHpaWHDpZRcXg5PWMqtEPNKqySn0OYb+6DSqm3Gq52qjf/fFoC8KEvc5mBfb7uBtlTrnkympRPb1obl5UanhAY62Pr5MK2cHaiAzW3bm/CsUMKvhtJyCTx5yq948LikSiCsKecLpBWSqrqUtNyKUw0NDQ8QXVVvjC1NTU07BTnZDrWxtujsyKSwaZZWDE9Hmk2IG4vu7cC09nRgAIvWvpkS32hjdQ+0Z2jM5JZXpheWVVdU14prZfXc0ippJqe06lSxoOo24lujDhLaK29t5H8bAdKSXNnohY+3t21HqrWVj5lxswcahNbWVmY2xmZGRhYmJq9dvMhqG5CpemNdXV1jray2EY2zBl5tTUN2UZk0RyyWPkX0ctBPG5tUvFnx8GTbhdCoZhGWpubuJsZGpsj036KpucncApluNjU2yE0IjY2NG9Eyqd7M1FRWU1fbZGZiWltTVy+S1jWkFfNFKaLaWsxzAfq1NKthMoZkkIBBAgYJGCRgkIBBAgYJGCRgkIBBAgYJGCRgkIBBAgYJaFcC/w/fAgv6hqtBogAAAABJRU5ErkJggg==)"
   ]
  },
  {
   "cell_type": "code",
   "execution_count": null,
   "metadata": {
    "executionInfo": {
     "elapsed": 461,
     "status": "ok",
     "timestamp": 1692274107417,
     "user": {
      "displayName": "Rodrigo Ribeiro",
      "userId": "10521807329412892963"
     },
     "user_tz": 180
    },
    "id": "eIIQL_Ggf7Fr"
   },
   "outputs": [],
   "source": [
    "class DiceMulti(Metric):\n",
    "    \"Averaged Dice metric (Macro F1) for multiclass target in segmentation\"\n",
    "    def __init__(self, axis=1): self.axis = axis\n",
    "    def reset(self): self.inter,self.union,self.total_area = {},{},{}\n",
    "    def accumulate(self, learn):\n",
    "        pred,targ = flatten_check(learn.pred.argmax(dim=self.axis), learn.y)\n",
    "        for c in range(learn.pred.shape[self.axis]):\n",
    "            p = torch.where(pred == c, 1, 0)\n",
    "            t = torch.where(targ == c, 1, 0)\n",
    "            c_inter = (p*t).float().sum().item()\n",
    "            c_totalSumAreas = (p+t).float().sum().item()\n",
    "            c_union = c_totalSumAreas-c_inter\n",
    "            if c in self.inter:\n",
    "                self.inter[c] += c_inter\n",
    "                self.total_area[c] += c_totalSumAreas\n",
    "                self.union[c] += c_union\n",
    "            else:\n",
    "                self.inter[c] = c_inter\n",
    "                self.total_area[c] = c_totalSumAreas\n",
    "                self.union[c] = c_union\n",
    "    @property\n",
    "    def value(self):\n",
    "        binary_dice_scores = np.array([])\n",
    "        for c in self.inter:\n",
    "            binary_dice_scores = np.append(binary_dice_scores, 2.*self.inter[c]/self.total_area[c] if self.total_area[c] > 0 else np.nan)\n",
    "        return np.nanmean(binary_dice_scores)\n",
    "\n",
    "class JaccardCoeffMulti(DiceMulti):\n",
    "  \"Implementation of the Averaged Jaccard coefficient that is lighter in RAM -- Mean IoU (Intersection Over Union)\"\n",
    "  @property\n",
    "  def value(self):\n",
    "    binary_jaccard_scores = np.array([])\n",
    "    for c in self.inter:\n",
    "        binary_jaccard_scores = np.append(binary_jaccard_scores, self.inter[c]/self.union[c] if self.union[c] > 0 else np.nan)\n",
    "    return np.nanmean(binary_jaccard_scores)\n",
    "\n",
    "def acc_metric(ipt, target):\n",
    "  return foreground_acc(ipt, target, bkg_idx=0)\n",
    "\n",
    "iou_metric = JaccardCoeffMulti()\n",
    "\n",
    "f1_metric = DiceMulti()\n",
    "\n",
    "metrics = [acc_metric, iou_metric, f1_metric]"
   ]
  },
  {
   "cell_type": "markdown",
   "metadata": {
    "id": "XCAUV03ClJlr"
   },
   "source": [
    "# Apresenta os resultados (N = número de imagens selecionadas)\n",
    "Função retorna a imagem, máscara original e a máscara prevista. Além disso armazena o nome da imagem para o display posterior."
   ]
  },
  {
   "cell_type": "code",
   "execution_count": null,
   "metadata": {
    "executionInfo": {
     "elapsed": 579,
     "status": "ok",
     "timestamp": 1692274111386,
     "user": {
      "displayName": "Rodrigo Ribeiro",
      "userId": "10521807329412892963"
     },
     "user_tz": 180
    },
    "id": "mk2V6A-at4AE"
   },
   "outputs": [],
   "source": [
    "names = []\n",
    "def get_results(predict, size, n=3):\n",
    "  for fname in random.sample(fnames, n):\n",
    "    res = predict(fname)\n",
    "    names.append(fname)\n",
    "    yield Result(\n",
    "        np.array(PILImage.create(fname).resize((size[1], size[0]))),\n",
    "        np.array(PILMask.create(get_mask(fname)).resize((size[1], size[0]))),\n",
    "        np.array(res[0]),\n",
    "    )"
   ]
  },
  {
   "cell_type": "markdown",
   "metadata": {
    "id": "FqZ0DwqK5VJ3"
   },
   "source": [
    "# Lapixdl function\n",
    "\n",
    "Aqui usamos, com leves ajustes para este experimento, um função de nossa biblioteca *LAPiX DL - Utils for Computer Vision Deep Learning research* disponível em:\n",
    "\n",
    "* https://github.com/lapix-ufsc/lapixdl"
   ]
  },
  {
   "cell_type": "code",
   "execution_count": null,
   "metadata": {
    "executionInfo": {
     "elapsed": 447,
     "status": "ok",
     "timestamp": 1692274115103,
     "user": {
      "displayName": "Rodrigo Ribeiro",
      "userId": "10521807329412892963"
     },
     "user_tz": 180
    },
    "id": "qLYQQ5Bh1KxD"
   },
   "outputs": [],
   "source": [
    "from __future__ import annotations\n",
    "\n",
    "import math\n",
    "from typing import Union\n",
    "\n",
    "import matplotlib.patches as mpatches\n",
    "import seaborn as sn\n",
    "from matplotlib import cm\n",
    "from matplotlib.axes import Axes\n",
    "from matplotlib.colors import Colormap\n",
    "from matplotlib.figure import Figure\n",
    "\n",
    "def rename(name):\n",
    "  fname = str(path_img)\n",
    "  fname_s = str(name)\n",
    "  if fname_s[len(fname)+1:][0] == \"t\":\n",
    "    return fname_s[len(fname)+7:]\n",
    "  else:\n",
    "    return fname_s[len(fname)+5:]\n",
    "\n",
    "correct_color = sn.color_palette('Paired')[3]\n",
    "incorrect_color = sn.color_palette('Paired')[5]\n",
    "\n",
    "ColorMap = Union[str, Colormap]\n",
    "\n",
    "def show_segmentations_dif(\n",
    "        results: list[Result[Mask]],\n",
    "        class_names: list[str],\n",
    "        cmap: ColorMap = 'tab20',\n",
    "        num_imgs: int = 3,\n",
    "        figSize: list[int] = [15,60],\n",
    "        mask_alpha: float = .3) -> tuple[Figure, Axes]:\n",
    "\n",
    "    cmap_colors = cm.get_cmap(cmap).colors\n",
    "\n",
    "    assert len(cmap_colors) >= len(\n",
    "        class_names), 'The color map length must be greater or equal the length of the class names.'\n",
    "\n",
    "    rows = len(results)\n",
    "    fig, axes = plt.subplots(rows, 3)\n",
    "    if rows == 1:\n",
    "        axes = [axes]\n",
    "\n",
    "    fig.suptitle(' ', fontsize=120)  # To keep space for the legend\n",
    "    lengend_handles = [mpatches.Patch(color=cmap_colors[i], label=code)\n",
    "                       for i, code in enumerate(class_names)]\n",
    "    fig.legend(handles=lengend_handles, fontsize='large',\n",
    "               ncol=min(16, len(class_names)), loc='upper center')\n",
    "\n",
    "    for i, result in enumerate(results):\n",
    "        axe_img = axes[i][0]\n",
    "        axe_GT = axes[i][1]\n",
    "        axe_pred = axes[i][2]\n",
    "\n",
    "        axe_img.set_title(rename(names[i]), fontsize='small')\n",
    "        axe_img.imshow(result.image)\n",
    "        axe_img.axis('off')\n",
    "\n",
    "        axe_GT.set_title('GT', fontsize='small')\n",
    "        axe_GT.axis('off')\n",
    "        axe_GT.imshow(result.image)\n",
    "        axe_GT.imshow(result.gt, cmap=cmap, alpha=mask_alpha,\n",
    "                      interpolation='none', vmin=0, vmax=len(cmap_colors) - 1)\n",
    "\n",
    "        axe_pred.axis('off')\n",
    "        if result.prediction is not None:\n",
    "            axe_pred.set_title('Prediction', fontsize='small')\n",
    "            axe_pred.imshow(result.image)\n",
    "            axe_pred.imshow(result.prediction, cmap=cmap, alpha=mask_alpha,\n",
    "                            interpolation='none', vmin=0, vmax=len(cmap_colors) - 1)\n",
    "\n",
    "    fig.set_size_inches((figSize[0], figSize[1]), forward=True)\n",
    "    #plt.tight_layout(w_pad=.2, h_pad=3)\n",
    "    plt.show()\n",
    "\n",
    "    return fig, axes"
   ]
  },
  {
   "cell_type": "markdown",
   "metadata": {
    "id": "pGlEhqmuf7Fx"
   },
   "source": [
    "# Learner\n",
    "Criamos o learner passando o dataset, o modelo, as métricas e o path dos mesmos."
   ]
  },
  {
   "cell_type": "code",
   "execution_count": null,
   "metadata": {
    "executionInfo": {
     "elapsed": 2,
     "status": "ok",
     "timestamp": 1692274119640,
     "user": {
      "displayName": "Rodrigo Ribeiro",
      "userId": "10521807329412892963"
     },
     "user_tz": 180
    },
    "id": "VeCy9twac-pU"
   },
   "outputs": [],
   "source": [
    "CUDA_LAUNCH_BLOCKING=1"
   ]
  },
  {
   "cell_type": "code",
   "execution_count": null,
   "metadata": {
    "executionInfo": {
     "elapsed": 461,
     "status": "ok",
     "timestamp": 1692274124562,
     "user": {
      "displayName": "Rodrigo Ribeiro",
      "userId": "10521807329412892963"
     },
     "user_tz": 180
    },
    "id": "hC-ThUhGloI2"
   },
   "outputs": [],
   "source": [
    "from pathlib import Path\n",
    "def get_learner(data, load_model=None, unfreeze:bool=False):\n",
    "  learn = unet_learner(data,\n",
    "                       used_model,\n",
    "                       metrics=metrics,\n",
    "                       # loss_func=CrossEntropyLossFlat(axis=1)\n",
    "                       )\n",
    "  learn.path = Path(path_models)\n",
    "  if(load_model != None):\n",
    "    learn.load(load_model, with_opt=True)\n",
    "  if(unfreeze):\n",
    "    learn.unfreeze()\n",
    "  return learn"
   ]
  },
  {
   "cell_type": "markdown",
   "metadata": {
    "id": "KcUzAsL59THI"
   },
   "source": [
    "## Treinamento \\#1: Um quarto do tamanho\n",
    "\n",
    "Utilizamos a estratégia de Jeremy Howard de treinar a rede em três ciclos *transfer learning/fine tuning* (6 treinos) sucessivos com resoluções progressivas (1:4, 1:2 e 1:1) de forma a treinar inicialmente grandes características e formas, depois características gerais de objetos e, por fim, textura de objetos."
   ]
  },
  {
   "cell_type": "code",
   "execution_count": null,
   "metadata": {
    "colab": {
     "base_uri": "https://localhost:8080/"
    },
    "executionInfo": {
     "elapsed": 540,
     "status": "ok",
     "timestamp": 1692274130838,
     "user": {
      "displayName": "Rodrigo Ribeiro",
      "userId": "10521807329412892963"
     },
     "user_tz": 180
    },
    "id": "cvyN3xMhf7F0",
    "outputId": "1f8c08c0-4b61-449d-c170-cfe528574a4a"
   },
   "outputs": [],
   "source": [
    "size = src_size//4\n",
    "BATCH_SIZE = 16\n",
    "transforms = [\n",
    "  ImageResizer((size[0], size[1])),\n",
    "  ToTensor(),\n",
    "  IntToFloatTensor(),\n",
    "  SegmentationAlbumentationsTransform(augmentations(size))\n",
    "]\n",
    "print(size)"
   ]
  },
  {
   "cell_type": "markdown",
   "metadata": {
    "id": "bimM7H-8Bxso"
   },
   "source": [
    "Cria o dataloader e separa em batches para o treinamento"
   ]
  },
  {
   "cell_type": "code",
   "execution_count": null,
   "metadata": {
    "executionInfo": {
     "elapsed": 5605,
     "status": "ok",
     "timestamp": 1692274140478,
     "user": {
      "displayName": "Rodrigo Ribeiro",
      "userId": "10521807329412892963"
     },
     "user_tz": 180
    },
    "id": "RZ9KZV0Yf7F2"
   },
   "outputs": [],
   "source": [
    "data = src.dataloaders(bs=BATCH_SIZE, after_item=transforms)"
   ]
  },
  {
   "cell_type": "markdown",
   "metadata": {
    "id": "Ph9Q0_hX__Dp"
   },
   "source": [
    "Nesse imagem em específico a paleta de cores é aleatória porque utiliza uma rotina de alto nível do fastai. Nesse sentido, não é possível troca-la"
   ]
  },
  {
   "cell_type": "code",
   "execution_count": null,
   "metadata": {
    "colab": {
     "base_uri": "https://localhost:8080/",
     "height": 456
    },
    "executionInfo": {
     "elapsed": 2040,
     "status": "ok",
     "timestamp": 1692274147878,
     "user": {
      "displayName": "Rodrigo Ribeiro",
      "userId": "10521807329412892963"
     },
     "user_tz": 180
    },
    "id": "5Pe5P1wJ99vU",
    "outputId": "23f456c1-bd23-4e9c-c644-d2ee77c7525b"
   },
   "outputs": [],
   "source": [
    "data.train.show_batch(max_n=6)"
   ]
  },
  {
   "cell_type": "markdown",
   "metadata": {
    "id": "bc4wzUmMB4Gz"
   },
   "source": [
    "# Determinamos e escolhemos a learning rate\n",
    "\n",
    "* Para isto utilizamos a função de escolha interativa de taxa de aprendizado ótima  do fastai"
   ]
  },
  {
   "cell_type": "code",
   "execution_count": null,
   "metadata": {
    "colab": {
     "base_uri": "https://localhost:8080/",
     "height": 599
    },
    "executionInfo": {
     "elapsed": 25527,
     "status": "ok",
     "timestamp": 1692274185976,
     "user": {
      "displayName": "Rodrigo Ribeiro",
      "userId": "10521807329412892963"
     },
     "user_tz": 180
    },
    "id": "60W937v1f7F-",
    "outputId": "e909bb7f-205e-4680-e3e2-60f053c5c3ae"
   },
   "outputs": [],
   "source": [
    "suggested_lr = get_learner(data).lr_find()"
   ]
  },
  {
   "cell_type": "markdown",
   "metadata": {
    "id": "iWZRb9dn8IPg"
   },
   "source": [
    "## Treinamos utilizando a política de adaptação simultânea de taxa de aprendizado e momento linear da rede para superconvergência 1cycle\n",
    "\n",
    "Abaixo um explicação retirada de nosso tutorial \"How to resume an interrupted training session in fastai\" disponível em: https://towardsdatascience.com/how-to-resume-an-interrupted-training-session-in-fastai-77c4f36cd3a1\n",
    "\n",
    "O método fit_one_cycle() empregado pelo fast.ai funciona com taxas e momentos de aprendizado variados e adaptativos, seguindo uma curva em que a taxa é aumentada e depois diminuída, enquanto o momento é tratado de forma oposta, conforme mostrado na figura abaixo.\n",
    "\n",
    "![imagem](https://miro.medium.com/max/720/1*38YBWIKFwXN0YlNOVo_LOA.jpeg)\n",
    "\n",
    "Se você interromper um treino na epoch #10 de, digamos, 20 epochs e depois recomeçar por mais 9 epochs, você não terá o mesmo resultado de treinar ininterruptamente por 20 epochs, porque um novo treino do zero, mesmo que você carregue os pesos da última época, empregarão uma nova taxa de aprendizado e política de impulso e passarão pelo ciclo novamente.\n",
    "\n",
    "O que você quer é começar de onde você foi interrompido no ciclo.\n",
    "\n",
    "![imagem](https://miro.medium.com/max/720/0*AzuB9-kayY2Abfp3.png)\n",
    "\n",
    "### O que é fit1cycle?\n",
    "\n",
    "Fit1cycle é uma política de superconvergência desenvolvida por Leslie N. Smith. Está disponível como a política de treinamento preferida no fast.ai. Veja abaixo os detalhes:\n",
    "\n",
    "* https://docs.fast.ai/callbacks.one_cycle.html\n",
    "* A disciplined approach to neural network hyper-parameters: Part 1 — learning rate, batch size, momentum, and weight decay — https://arxiv.org/abs/1803.09820\n",
    "* Super-Convergence: Very Fast Training of Residual Networks Using Large Learning Rates — https://arxiv.org/abs/1708.07120\n",
    "\n",
    "Se você quiser ver mais artigos, siga este link: Papers de Leslie N. Smith. Não entraremos em detalhes nesta postagem. Existem várias postagens no Medium apresentando e discutindo a política de treinamento fit1cycle de uma maneira fácil de ler:\n",
    "\n",
    "* Training Neural Networks upto 10x Faster by Karanbir Chahal;\n",
    "* SuperConvergence with inbuilt regularization by Yogesh Gurjar;\n",
    "* Super-Convergence: Very Fast Training of Neural Networks Using Large Learning Rates by Aditya Gupta;\n",
    "* Fast.ai Part1 v2/v3 Notes — Learning Rates — from SGDR to 1cycle and Super-Convergence by Roger Mao;\n",
    "* Reproducing Leslie N. Smith’s papers using fastai by Kushajveer Singh.\n",
    "\n",
    "Esta última postagem de Kushajveer Singh tem um notebook Jupyter muito ilustrativo que vale a pena olhar. Há também um artigo muito interessante de Nachiket Tanksale chamado Finding Good Learning Rate e The One Cycle Policy, onde as taxas de aprendizado cíclico e o momento são discutidos.\n",
    "\n",
    "Leia o nosso tutorial para saber mais sobre treino em etapas e 1cycle."
   ]
  },
  {
   "cell_type": "markdown",
   "metadata": {
    "id": "uqmd00yKrJQV"
   },
   "source": [
    "# Opcional: Caso queira registrar no WandB"
   ]
  },
  {
   "cell_type": "code",
   "execution_count": null,
   "metadata": {
    "id": "RXJayMJluUr3"
   },
   "outputs": [],
   "source": [
    "wandb.init(project='Unet-test')"
   ]
  },
  {
   "cell_type": "markdown",
   "metadata": {
    "id": "zkFU7i4jrPve"
   },
   "source": [
    "# Realizar o primeiro treinamento"
   ]
  },
  {
   "cell_type": "code",
   "execution_count": null,
   "metadata": {
    "colab": {
     "base_uri": "https://localhost:8080/",
     "height": 699
    },
    "executionInfo": {
     "elapsed": 113256,
     "status": "ok",
     "timestamp": 1692274316564,
     "user": {
      "displayName": "Rodrigo Ribeiro",
      "userId": "10521807329412892963"
     },
     "user_tz": 180
    },
    "id": "Bl5IDi-lti_C",
    "outputId": "ea42a16b-61ba-40a9-d251-1d3a3b603195"
   },
   "outputs": [],
   "source": [
    "lr=suggested_lr.valley\n",
    "TRAIN_EPOCH = 1\n",
    "wd=1e-3\n",
    "learn = get_learner(data)\n",
    "callback = SaveModelCallback(monitor='dice_multi', fname='best_model_resnet_stg1', with_opt=True) # Opcional: ,WandbCallback()\n",
    "# Chamando learn.fit_one_cycle() ao invés de learn.fit()\n",
    "learn.fit_one_cycle(TRAIN_EPOCH, lr_max=lr, wd=wd, cbs=callback)"
   ]
  },
  {
   "cell_type": "markdown",
   "metadata": {
    "id": "xO-_IMd_l9IL"
   },
   "source": [
    "# Mostramos imagens aleatórias do treino"
   ]
  },
  {
   "cell_type": "markdown",
   "metadata": {
    "id": "H6cx3vxF2rvE"
   },
   "source": [
    "Nesse imagem em específico a paleta de cores é aleatória porque utiliza uma rotina de alto nível do fastai. Nesse sentido, não é possível troca-la"
   ]
  },
  {
   "cell_type": "code",
   "execution_count": null,
   "metadata": {
    "colab": {
     "base_uri": "https://localhost:8080/",
     "height": 1000
    },
    "executionInfo": {
     "elapsed": 2503,
     "status": "ok",
     "timestamp": 1692274359988,
     "user": {
      "displayName": "Rodrigo Ribeiro",
      "userId": "10521807329412892963"
     },
     "user_tz": 180
    },
    "id": "2rzWGk81ti_R",
    "outputId": "08085e32-d8ea-4476-fecd-e1019c0ec890"
   },
   "outputs": [],
   "source": [
    "learn.show_results(max_n=8, figsize=(20,30))"
   ]
  },
  {
   "cell_type": "markdown",
   "metadata": {
    "id": "-vV2uh73mHMJ"
   },
   "source": [
    "#Escolhemos o novo learning rate a partir do treinamento anterior"
   ]
  },
  {
   "cell_type": "code",
   "execution_count": null,
   "metadata": {
    "colab": {
     "base_uri": "https://localhost:8080/",
     "height": 475
    },
    "executionInfo": {
     "elapsed": 16726,
     "status": "ok",
     "timestamp": 1692274388806,
     "user": {
      "displayName": "Rodrigo Ribeiro",
      "userId": "10521807329412892963"
     },
     "user_tz": 180
    },
    "id": "pyktRS6_XhIB",
    "outputId": "b792cb36-484f-48ff-c27b-7f608cb38c05"
   },
   "outputs": [],
   "source": [
    "suggested_lr = get_learner(data, 'best_model_resnet_stg1', True).lr_find()"
   ]
  },
  {
   "cell_type": "code",
   "execution_count": null,
   "metadata": {
    "colab": {
     "base_uri": "https://localhost:8080/",
     "height": 470
    },
    "executionInfo": {
     "elapsed": 86786,
     "status": "ok",
     "timestamp": 1692274510320,
     "user": {
      "displayName": "Rodrigo Ribeiro",
      "userId": "10521807329412892963"
     },
     "user_tz": 180
    },
    "id": "Ig7TE3chti_p",
    "outputId": "ddc552fa-40c6-4d0f-bd9c-77b1e7df0b7c"
   },
   "outputs": [],
   "source": [
    "lr=slice(suggested_lr.valley)\n",
    "TRAIN_EPOCH = 1\n",
    "wd=1e-3\n",
    "learn = get_learner(data, 'best_model_resnet_stg1', True)\n",
    "callback = SaveModelCallback(monitor='dice_multi', fname='best_model_resnet_stg2', with_opt=True)\n",
    "\n",
    "learn.fit_one_cycle(TRAIN_EPOCH, lr_max=lr, wd=wd, cbs=callback)"
   ]
  },
  {
   "cell_type": "markdown",
   "metadata": {
    "id": "zL3ZyUnH-KhF"
   },
   "source": [
    "# Recarregamos o Modelo caso necessário"
   ]
  },
  {
   "cell_type": "code",
   "execution_count": null,
   "metadata": {
    "executionInfo": {
     "elapsed": 2248,
     "status": "ok",
     "timestamp": 1692274528960,
     "user": {
      "displayName": "Rodrigo Ribeiro",
      "userId": "10521807329412892963"
     },
     "user_tz": 180
    },
    "id": "lWxhHu7wqTrY"
   },
   "outputs": [],
   "source": [
    "learn = get_learner(data, 'best_model_resnet_stg2')"
   ]
  },
  {
   "cell_type": "markdown",
   "metadata": {
    "id": "QcNPFxWK9tI9"
   },
   "source": [
    "# Numero de Imagens para display"
   ]
  },
  {
   "cell_type": "code",
   "execution_count": null,
   "metadata": {
    "executionInfo": {
     "elapsed": 559,
     "status": "ok",
     "timestamp": 1692274531943,
     "user": {
      "displayName": "Rodrigo Ribeiro",
      "userId": "10521807329412892963"
     },
     "user_tz": 180
    },
    "id": "2WPvZJ5U9tI-"
   },
   "outputs": [],
   "source": [
    "n_img = 25"
   ]
  },
  {
   "cell_type": "markdown",
   "metadata": {
    "id": "2oL2Qw_kmV_u"
   },
   "source": [
    "# Seleciona imagens aleatórias a fim de mostrar a predição da rede\n",
    "\n",
    "\n",
    "Imagem, Mascara e Predição\n",
    "OBS: Caso queira dar zoom na imagem, porque a plataforma não deixa\n",
    "\n",
    "-> Botão direito do mouse na imagem, abrir imagem em outra aba."
   ]
  },
  {
   "cell_type": "code",
   "execution_count": null,
   "metadata": {
    "colab": {
     "base_uri": "https://localhost:8080/",
     "height": 1000
    },
    "executionInfo": {
     "elapsed": 17809,
     "status": "ok",
     "timestamp": 1692274553826,
     "user": {
      "displayName": "Rodrigo Ribeiro",
      "userId": "10521807329412892963"
     },
     "user_tz": 180
    },
    "id": "0SRLlITvti_s",
    "outputId": "08c87165-5abb-4424-d22c-2fd10d293c6d"
   },
   "outputs": [],
   "source": [
    "fig, axes = show_segmentations_dif(list(get_results(learn.predict,size,n_img)), codes, num_imgs=n_img,figSize=[20,100],mask_alpha=0.5)"
   ]
  },
  {
   "cell_type": "markdown",
   "metadata": {
    "id": "KTpCQ2obti_x"
   },
   "source": [
    "## Treinamento \\#2: Metade do tamanho"
   ]
  },
  {
   "cell_type": "code",
   "execution_count": null,
   "metadata": {
    "colab": {
     "base_uri": "https://localhost:8080/"
    },
    "executionInfo": {
     "elapsed": 467,
     "status": "ok",
     "timestamp": 1692274596538,
     "user": {
      "displayName": "Rodrigo Ribeiro",
      "userId": "10521807329412892963"
     },
     "user_tz": 180
    },
    "id": "iskl-ODDupvM",
    "outputId": "ab45ec96-47b3-4a07-ec3e-194600e20204"
   },
   "outputs": [],
   "source": [
    "size = src_size//2\n",
    "BATCH_SIZE = 8\n",
    "transforms = [\n",
    "  ImageResizer((size[0], size[1])),\n",
    "  ToTensor(),\n",
    "  IntToFloatTensor(),\n",
    "  SegmentationAlbumentationsTransform(augmentations(size))\n",
    "]\n",
    "print(size)"
   ]
  },
  {
   "cell_type": "code",
   "execution_count": null,
   "metadata": {
    "executionInfo": {
     "elapsed": 477,
     "status": "ok",
     "timestamp": 1692274600013,
     "user": {
      "displayName": "Rodrigo Ribeiro",
      "userId": "10521807329412892963"
     },
     "user_tz": 180
    },
    "id": "GpWz-vCPutEr"
   },
   "outputs": [],
   "source": [
    "data = src.dataloaders(bs=BATCH_SIZE, after_item=transforms)"
   ]
  },
  {
   "cell_type": "code",
   "execution_count": null,
   "metadata": {
    "colab": {
     "base_uri": "https://localhost:8080/",
     "height": 472
    },
    "executionInfo": {
     "elapsed": 17789,
     "status": "ok",
     "timestamp": 1692274620137,
     "user": {
      "displayName": "Rodrigo Ribeiro",
      "userId": "10521807329412892963"
     },
     "user_tz": 180
    },
    "id": "dsImDoPuu2iu",
    "outputId": "393381a5-a7e3-4824-cdab-b47096070a85"
   },
   "outputs": [],
   "source": [
    "suggested_lr = get_learner(data).lr_find()"
   ]
  },
  {
   "cell_type": "code",
   "execution_count": null,
   "metadata": {
    "colab": {
     "base_uri": "https://localhost:8080/",
     "height": 734
    },
    "executionInfo": {
     "elapsed": 224507,
     "status": "ok",
     "timestamp": 1692274869612,
     "user": {
      "displayName": "Rodrigo Ribeiro",
      "userId": "10521807329412892963"
     },
     "user_tz": 180
    },
    "id": "w5NY5PCy655Q",
    "outputId": "3e65b265-230b-4314-c7b5-defca702d518"
   },
   "outputs": [],
   "source": [
    "lr=suggested_lr.valley\n",
    "TRAIN_EPOCH = 1\n",
    "wd=1e-3\n",
    "learn = get_learner(data)\n",
    "callback = SaveModelCallback(monitor='dice_multi', fname='best_model_resnet_stg1', with_opt=True)\n",
    "\n",
    "learn.fit_one_cycle(TRAIN_EPOCH, lr_max=lr, wd=wd, cbs=callback)"
   ]
  },
  {
   "cell_type": "markdown",
   "metadata": {
    "id": "Vym2EARFqjBA"
   },
   "source": [
    "# Escolhemos o novo learning rate a partir do treinamento anterior"
   ]
  },
  {
   "cell_type": "code",
   "execution_count": null,
   "metadata": {
    "colab": {
     "base_uri": "https://localhost:8080/",
     "height": 472
    },
    "executionInfo": {
     "elapsed": 16245,
     "status": "ok",
     "timestamp": 1692274896003,
     "user": {
      "displayName": "Rodrigo Ribeiro",
      "userId": "10521807329412892963"
     },
     "user_tz": 180
    },
    "id": "bLzlXMYsvLyl",
    "outputId": "8bc42058-4fb1-460c-d558-36de790b1bd9"
   },
   "outputs": [],
   "source": [
    "suggested_lr = get_learner(data, 'best_model_resnet_stg1', True).lr_find()"
   ]
  },
  {
   "cell_type": "code",
   "execution_count": null,
   "metadata": {
    "colab": {
     "base_uri": "https://localhost:8080/",
     "height": 506
    },
    "executionInfo": {
     "elapsed": 172732,
     "status": "ok",
     "timestamp": 1692275166567,
     "user": {
      "displayName": "Rodrigo Ribeiro",
      "userId": "10521807329412892963"
     },
     "user_tz": 180
    },
    "id": "_Cia8K6B8s25",
    "outputId": "a5425eff-c982-4e7d-88bc-7d115f39b9b6"
   },
   "outputs": [],
   "source": [
    "lr=suggested_lr.valley\n",
    "TRAIN_EPOCH = 1\n",
    "wd=1e-3\n",
    "learn = get_learner(data, 'best_model_resnet_stg1', True)\n",
    "callback = SaveModelCallback(monitor='dice_multi', fname='best_model_resnet_stg2', with_opt=True)\n",
    "\n",
    "learn.fit_one_cycle(TRAIN_EPOCH, lr_max=lr, wd=wd, cbs=callback)"
   ]
  },
  {
   "cell_type": "markdown",
   "metadata": {
    "id": "xoPQOt5B9WL7"
   },
   "source": [
    "# Numero de Imagens para display"
   ]
  },
  {
   "cell_type": "code",
   "execution_count": null,
   "metadata": {
    "executionInfo": {
     "elapsed": 1898,
     "status": "ok",
     "timestamp": 1692275173187,
     "user": {
      "displayName": "Rodrigo Ribeiro",
      "userId": "10521807329412892963"
     },
     "user_tz": 180
    },
    "id": "_e1ooFjg7HR_"
   },
   "outputs": [],
   "source": [
    "learn = get_learner(data, 'best_model_resnet_stg2')"
   ]
  },
  {
   "cell_type": "code",
   "execution_count": null,
   "metadata": {
    "executionInfo": {
     "elapsed": 592,
     "status": "ok",
     "timestamp": 1692275176116,
     "user": {
      "displayName": "Rodrigo Ribeiro",
      "userId": "10521807329412892963"
     },
     "user_tz": 180
    },
    "id": "sNqjYgo19UZ_"
   },
   "outputs": [],
   "source": [
    "n_img = 25"
   ]
  },
  {
   "cell_type": "markdown",
   "metadata": {
    "id": "A5LFTsmIqD9Y"
   },
   "source": [
    "# Seleciona imagens aleatórias a fim de mostrar a predição da rede\n",
    "\n",
    "\n",
    "Imagem, Mascara e Predição\n",
    "OBS: Caso queira dar zoom na imagem, porque a plataforma não deixa\n",
    "\n",
    "-> Botão direito do mouse na imagem, abrir imagem em outra aba."
   ]
  },
  {
   "cell_type": "code",
   "execution_count": null,
   "metadata": {
    "colab": {
     "base_uri": "https://localhost:8080/",
     "height": 1000
    },
    "executionInfo": {
     "elapsed": 47847,
     "status": "ok",
     "timestamp": 1692275231413,
     "user": {
      "displayName": "Rodrigo Ribeiro",
      "userId": "10521807329412892963"
     },
     "user_tz": 180
    },
    "id": "Y5hhopekz12n",
    "outputId": "34c788c6-9c11-4f41-f03a-113673ea5f18"
   },
   "outputs": [],
   "source": [
    "fig, axes = show_segmentations_dif(list(get_results(learn.predict,size,n_img)), codes, num_imgs=n_img,figSize=[20,100],mask_alpha=0.5)"
   ]
  },
  {
   "cell_type": "markdown",
   "metadata": {
    "id": "m4k4bFG7AKya"
   },
   "source": [
    "## Treinamento \\#3: Tamanho Inteiro"
   ]
  },
  {
   "cell_type": "code",
   "execution_count": null,
   "metadata": {
    "colab": {
     "base_uri": "https://localhost:8080/"
    },
    "executionInfo": {
     "elapsed": 6,
     "status": "ok",
     "timestamp": 1692275255084,
     "user": {
      "displayName": "Rodrigo Ribeiro",
      "userId": "10521807329412892963"
     },
     "user_tz": 180
    },
    "id": "Z4n2wj-TfBOJ",
    "outputId": "419c20e9-9bc1-4568-aa1a-467e6fec4e4e"
   },
   "outputs": [],
   "source": [
    "size = src_size\n",
    "BATCH_SIZE = 4\n",
    "transforms = [\n",
    "  ImageResizer((size[0], size[1])),\n",
    "  ToTensor(),\n",
    "  IntToFloatTensor(),\n",
    "  SegmentationAlbumentationsTransform(augmentations(size))\n",
    "]\n",
    "print(size)"
   ]
  },
  {
   "cell_type": "code",
   "execution_count": null,
   "metadata": {
    "executionInfo": {
     "elapsed": 464,
     "status": "ok",
     "timestamp": 1692275257586,
     "user": {
      "displayName": "Rodrigo Ribeiro",
      "userId": "10521807329412892963"
     },
     "user_tz": 180
    },
    "id": "37bIPCMWfG1L"
   },
   "outputs": [],
   "source": [
    "data = src.dataloaders(bs=BATCH_SIZE, after_item=transforms)"
   ]
  },
  {
   "cell_type": "code",
   "execution_count": null,
   "metadata": {
    "colab": {
     "base_uri": "https://localhost:8080/",
     "height": 477
    },
    "executionInfo": {
     "elapsed": 27759,
     "status": "ok",
     "timestamp": 1692275286717,
     "user": {
      "displayName": "Rodrigo Ribeiro",
      "userId": "10521807329412892963"
     },
     "user_tz": 180
    },
    "id": "KghgnB0MfKBm",
    "outputId": "a3afb437-66d8-46b9-ea3c-89421fb7a766"
   },
   "outputs": [],
   "source": [
    "suggested_lr = get_learner(data,\"best_model_resnet_stg2\", True).lr_find()"
   ]
  },
  {
   "cell_type": "code",
   "execution_count": null,
   "metadata": {
    "colab": {
     "base_uri": "https://localhost:8080/",
     "height": 770
    },
    "executionInfo": {
     "elapsed": 711500,
     "status": "ok",
     "timestamp": 1692276024387,
     "user": {
      "displayName": "Rodrigo Ribeiro",
      "userId": "10521807329412892963"
     },
     "user_tz": 180
    },
    "id": "nYK3vF1uf8ZY",
    "outputId": "79ae72e2-9eea-405d-9faa-42e20dbf45df"
   },
   "outputs": [],
   "source": [
    "lr=suggested_lr.valley\n",
    "TRAIN_EPOCH = 1\n",
    "wd=1e-3\n",
    "learn = get_learner(data)\n",
    "callback = SaveModelCallback(monitor='dice_multi', fname='best_model_resnet_stg1_maxsize', with_opt=True)\n",
    "\n",
    "learn.fit_one_cycle(TRAIN_EPOCH, lr_max=lr, wd=wd, cbs=callback)"
   ]
  },
  {
   "cell_type": "markdown",
   "metadata": {
    "id": "v3QiVbDWqmV5"
   },
   "source": [
    "# Escolhemos o novo learning rate a partir do treinamento anterior"
   ]
  },
  {
   "cell_type": "code",
   "execution_count": null,
   "metadata": {
    "colab": {
     "base_uri": "https://localhost:8080/",
     "height": 472
    },
    "executionInfo": {
     "elapsed": 25085,
     "status": "ok",
     "timestamp": 1692276067450,
     "user": {
      "displayName": "Rodrigo Ribeiro",
      "userId": "10521807329412892963"
     },
     "user_tz": 180
    },
    "id": "96DQx6mnMmIe",
    "outputId": "3764615f-5778-477e-835d-f1ed31b3245a"
   },
   "outputs": [],
   "source": [
    "suggested_lr = get_learner(data, 'best_model_resnet_stg1_maxsize', True).lr_find()"
   ]
  },
  {
   "cell_type": "code",
   "execution_count": null,
   "metadata": {
    "colab": {
     "base_uri": "https://localhost:8080/",
     "height": 506
    },
    "executionInfo": {
     "elapsed": 499116,
     "status": "ok",
     "timestamp": 1692276593925,
     "user": {
      "displayName": "Rodrigo Ribeiro",
      "userId": "10521807329412892963"
     },
     "user_tz": 180
    },
    "id": "ZRtsM-wlNDks",
    "outputId": "7d49c267-1826-40a9-b2ca-5f00d7e52822"
   },
   "outputs": [],
   "source": [
    "lr=suggested_lr.valley\n",
    "TRAIN_EPOCH = 1\n",
    "wd=1e-3\n",
    "learn = get_learner(data, 'best_model_resnet_stg1_maxsize', True)\n",
    "callback = SaveModelCallback(monitor='dice_multi', fname='best_model_resnet_stg2_maxsize', with_opt=True)\n",
    "\n",
    "learn.fit_one_cycle(TRAIN_EPOCH, lr_max=lr, wd=wd, cbs=callback)"
   ]
  },
  {
   "cell_type": "markdown",
   "metadata": {
    "id": "kPKggm7tq4iK"
   },
   "source": [
    "# Recarregamos o Modelo caso necessário"
   ]
  },
  {
   "cell_type": "code",
   "execution_count": null,
   "metadata": {
    "executionInfo": {
     "elapsed": 3411,
     "status": "ok",
     "timestamp": 1692276602483,
     "user": {
      "displayName": "Rodrigo Ribeiro",
      "userId": "10521807329412892963"
     },
     "user_tz": 180
    },
    "id": "ba58VkRey-oj"
   },
   "outputs": [],
   "source": [
    "learn = get_learner(data, 'best_model_resnet_stg2_maxsize')"
   ]
  },
  {
   "cell_type": "markdown",
   "metadata": {
    "id": "QJRSiPLK94Bh"
   },
   "source": [
    "# Numero de Imagens para display"
   ]
  },
  {
   "cell_type": "code",
   "execution_count": null,
   "metadata": {
    "executionInfo": {
     "elapsed": 443,
     "status": "ok",
     "timestamp": 1692276605628,
     "user": {
      "displayName": "Rodrigo Ribeiro",
      "userId": "10521807329412892963"
     },
     "user_tz": 180
    },
    "id": "BoCAD-lo94Bi"
   },
   "outputs": [],
   "source": [
    "n_img = 25"
   ]
  },
  {
   "cell_type": "markdown",
   "metadata": {
    "id": "XsiGobrfqHXQ"
   },
   "source": [
    "# Seleciona imagens aleatórias a fim de mostrar a predição da rede\n",
    "\n",
    "\n",
    "Imagem, Mascara e Predição\n",
    "OBS: Caso queira dar zoom na imagem, porque a plataforma não deixa\n",
    "\n",
    "-> Botão direito do mouse na imagem, abrir imagem em outra aba."
   ]
  },
  {
   "cell_type": "code",
   "execution_count": null,
   "metadata": {
    "colab": {
     "base_uri": "https://localhost:8080/",
     "height": 1000
    },
    "executionInfo": {
     "elapsed": 55392,
     "status": "ok",
     "timestamp": 1692276664179,
     "user": {
      "displayName": "Rodrigo Ribeiro",
      "userId": "10521807329412892963"
     },
     "user_tz": 180
    },
    "id": "EvNFG9Lktpix",
    "outputId": "67850de8-cb38-4645-a571-caf9d246fbef"
   },
   "outputs": [],
   "source": [
    "fig, axes = show_segmentations_dif(list(get_results(learn.predict,size,n_img)), codes, num_imgs=n_img,figSize=[20,100],mask_alpha=0.5)"
   ]
  },
  {
   "cell_type": "markdown",
   "metadata": {
    "id": "bsUDGOPoKx8p"
   },
   "source": [
    "# Evaluation"
   ]
  },
  {
   "cell_type": "code",
   "execution_count": null,
   "metadata": {
    "executionInfo": {
     "elapsed": 460,
     "status": "ok",
     "timestamp": 1692276690534,
     "user": {
      "displayName": "Rodrigo Ribeiro",
      "userId": "10521807329412892963"
     },
     "user_tz": 180
    },
    "id": "wFhZHxKe9HqW"
   },
   "outputs": [],
   "source": [
    "from lapixdl.evaluation.evaluate import evaluate_segmentation\n",
    "\n",
    "def gt_mask_iterator_from_image_files(fnames, size):\n",
    "  for fname in fnames:\n",
    "    yield np.array(PILMask.create(get_mask(fname)).resize((size[1], size[0])))\n",
    "\n",
    "def pred_mask_iterator_from_image_files(fnames, size, predict):\n",
    "  for fname in fnames:\n",
    "    res = predict(fname)\n",
    "    yield np.array(res[0])"
   ]
  },
  {
   "cell_type": "markdown",
   "metadata": {
    "id": "siMCn2im-i_H"
   },
   "source": [
    "# Definimos o Path e modelo de rede para testar as imagens destinadas a teste\n",
    "Setamos o path do teste e o tamanho das imagens para igualar com o modelo."
   ]
  },
  {
   "cell_type": "code",
   "execution_count": null,
   "metadata": {
    "executionInfo": {
     "elapsed": 3592,
     "status": "ok",
     "timestamp": 1692276697853,
     "user": {
      "displayName": "Rodrigo Ribeiro",
      "userId": "10521807329412892963"
     },
     "user_tz": 180
    },
    "id": "l2qvhySBJzAr"
   },
   "outputs": [],
   "source": [
    "size = src_size\n",
    "\n",
    "test_image_files = get_image_files(os.path.join(path_img,'test'))\n",
    "transforms = [\n",
    "  ImageResizer((size[0], size[1])),\n",
    "  ToTensor(),\n",
    "  IntToFloatTensor()\n",
    "]\n",
    "\n",
    "tfms = [[PILImage.create], [get_mask, PILMask.create, AddMaskCodes(codes)]]\n",
    "src = Datasets(test_image_files, tfms)\n",
    "test_dl = src.dataloaders(bs=1, after_item=transforms)\n",
    "\n",
    "learn = get_learner(test_dl, 'best_model_resnet_stg2_maxsize')\n",
    "\n",
    "gt_masks = gt_mask_iterator_from_image_files(test_image_files, size)\n",
    "pred_masks = pred_mask_iterator_from_image_files(test_image_files, size, learn.predict)"
   ]
  },
  {
   "cell_type": "markdown",
   "metadata": {
    "id": "r_jdhAla-p4h"
   },
   "source": [
    "# Avaliamos os resultados utilizando as métricas pré estabelecidas\n",
    "Chamamos a função eveluate_segmentation importada da biblioteca do Lapix, passando as máscaras originais, máscaras previstas e o codes, nesse sentido, será criada a matriz de confusão"
   ]
  },
  {
   "cell_type": "code",
   "execution_count": null,
   "metadata": {
    "colab": {
     "base_uri": "https://localhost:8080/",
     "height": 1000
    },
    "executionInfo": {
     "elapsed": 15841,
     "status": "ok",
     "timestamp": 1692276716346,
     "user": {
      "displayName": "Rodrigo Ribeiro",
      "userId": "10521807329412892963"
     },
     "user_tz": 180
    },
    "id": "1r12l6w7K6Xf",
    "outputId": "8ab96441-1ade-4660-844a-7754b8c2c398"
   },
   "outputs": [],
   "source": [
    "eval = evaluate_segmentation(gt_masks, pred_masks, codes)\n",
    "eval.show_confusion_matrix()"
   ]
  },
  {
   "cell_type": "code",
   "execution_count": null,
   "metadata": {
    "colab": {
     "base_uri": "https://localhost:8080/",
     "height": 17
    },
    "executionInfo": {
     "elapsed": 4400,
     "status": "ok",
     "timestamp": 1692276732806,
     "user": {
      "displayName": "Rodrigo Ribeiro",
      "userId": "10521807329412892963"
     },
     "user_tz": 180
    },
    "id": "GamCNl0K08hy",
    "outputId": "02bd9c1a-a6d3-42c7-e604-25d36c64f00e"
   },
   "outputs": [],
   "source": [
    "interp = SegmentationInterpretation.from_learner(learn, dl=test_dl[0])"
   ]
  },
  {
   "cell_type": "markdown",
   "metadata": {
    "id": "77zJMv4W-zFj"
   },
   "source": [
    "# Verificamos os piores casos\n",
    "\n",
    "Nesse imagem em específico a paleta de cores é aleatória porque utiliza uma rotina de alto nível do fastai. Nesse sentido, não é possível troca-la\n",
    "\n",
    "Obs: Pode mudar o valor \"6\" para se obter mais ou menos imagens"
   ]
  },
  {
   "cell_type": "code",
   "execution_count": null,
   "metadata": {
    "colab": {
     "base_uri": "https://localhost:8080/",
     "height": 1000
    },
    "executionInfo": {
     "elapsed": 5169,
     "status": "error",
     "timestamp": 1692276960595,
     "user": {
      "displayName": "Rodrigo Ribeiro",
      "userId": "10521807329412892963"
     },
     "user_tz": 180
    },
    "id": "PzDn40m3lV6V",
    "outputId": "75f20cb7-1f40-42b5-a4bb-84dfcf29789f"
   },
   "outputs": [],
   "source": [
    "interp.plot_top_losses(k=6)"
   ]
  },
  {
   "cell_type": "code",
   "execution_count": null,
   "metadata": {},
   "outputs": [],
   "source": [
    "%%HTML\n",
    "<div align=\"center\">\n",
    "    <iframe width=\"800\" height=\"600\"\n",
    "         src=\"https://www.youtube.com/embed/-1vam1fO3Ag\"\n",
    "    </iframe>\n",
    "</div>"
   ]
  },
  {
   "cell_type": "markdown",
   "metadata": {
    "id": "fkORLfjSt0Zi"
   },
   "source": [
    "![NB-rodape-PT.jpg](https://lapix.ufsc.br/wp-content/uploads/2022/10/rodape-CC.png)"
   ]
  }
 ],
 "metadata": {
  "accelerator": "GPU",
  "colab": {
   "collapsed_sections": [
    "iWZRb9dn8IPg"
   ],
   "gpuType": "T4",
   "provenance": [
    {
     "file_id": "1nevLgvorb_kdxtEBgaE4cDWlPy2vafpe",
     "timestamp": 1668553264621
    },
    {
     "file_id": "182nHmjtBAXlgmWCmZrViS1jEyh65Bcaa",
     "timestamp": 1668386669224
    },
    {
     "file_id": "1wFCJ4OUpXr4iALJ-DHlKIPtA0cMgfa_h",
     "timestamp": 1666928139220
    },
    {
     "file_id": "1KyQe4-6Mu4lJZ3CMjLH7azA7VQ_gMWlD",
     "timestamp": 1665347198135
    },
    {
     "file_id": "1hepzZf_XGc7A1i0xhy3IboYUFjm2GUPc",
     "timestamp": 1663913672887
    },
    {
     "file_id": "1mJWjqYvgA9HTOXMexujAxpiT0JTRSLVP",
     "timestamp": 1663892358601
    },
    {
     "file_id": "1-KTZwlkKEG76mWFEmx-a-wiF2bINt83B",
     "timestamp": 1663645659459
    },
    {
     "file_id": "1g0CqBDIinPo8Ft1NcLz5n4oF9lhrjNqi",
     "timestamp": 1663249853745
    },
    {
     "file_id": "1onORo4h0Pz-m8I-tGntbbH7QXYwIuNh5",
     "timestamp": 1663248360234
    },
    {
     "file_id": "1mpIsBb-wOjYtBeuGNDOG9dEv8nwgoW8L",
     "timestamp": 1662591923344
    },
    {
     "file_id": "1mu5T3WAZyrJydireI_FYDHGrAKsqNRPm",
     "timestamp": 1662580744079
    },
    {
     "file_id": "1fa6KzzdSgMCjpEFamSsle0KRjCttFUvk",
     "timestamp": 1657383005422
    },
    {
     "file_id": "1ZbODBoymbnlnTitkhtzUvjbJFSm2p9QG",
     "timestamp": 1623254898512
    }
   ],
   "toc_visible": true
  },
  "kernelspec": {
   "display_name": "Python 3 (ipykernel)",
   "language": "python",
   "name": "python3"
  },
  "language_info": {
   "codemirror_mode": {
    "name": "ipython",
    "version": 3
   },
   "file_extension": ".py",
   "mimetype": "text/x-python",
   "name": "python",
   "nbconvert_exporter": "python",
   "pygments_lexer": "ipython3",
   "version": "3.8.12"
  }
 },
 "nbformat": 4,
 "nbformat_minor": 4
}
