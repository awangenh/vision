{
 "cells": [
  {
   "cell_type": "markdown",
   "metadata": {},
   "source": [
    "![](VC.png)"
   ]
  },
  {
   "cell_type": "markdown",
   "metadata": {},
   "source": [
    "<a href=\"\"><img align=\"left\" src=\"http://www.lapix.ufsc.br/wp-content/uploads/2019/04/License-CC-BY-ND-4.0-orange.png\" alt=\"Creative Commons 4.0 License\" title=\"Creative Commons 4.0 License\"></a>&nbsp; &nbsp; <a href=\"\"><img align=\"left\" src=\"http://www.lapix.ufsc.br/wp-content/uploads/2019/04/Jupyter-Notebook-v.1.0-blue.png\" alt=\"Jupyter Version\" title=\"Jupyter Version\"></a>&nbsp; &nbsp;<a href=\"\"><img align=\"left\"  src=\"http://www.lapix.ufsc.br/wp-content/uploads/2019/04/Python-v.3.7-green.png\" alt=\"Python Version\" title=\"Python Version\"></a>"
   ]
  },
  {
   "cell_type": "markdown",
   "metadata": {},
   "source": [
    "This is the longer, step-by-step version of the original Google Colaboratory notebook developed by  Ivan Goncharov that will, hopefully, help you set up YOLOv3 on Google Colab and get going with it. You'll find here how to install Darknet with YOLO and all its dependencies, including CUDA and OpenCV. Then, I'll be showing how to process videos with it and train your models (which worked like 1000 times faster than my good ol' CPU), as well as how to upload and download your training data and the resulting weights.\n",
    "\n",
    "There's a video by  Ivan Goncharov that you can check out here: https://youtu.be/USdaipqgZR8\n",
    "\n",
    "You can contact the author of this notebook here: https://twitter.com/Ivangrov \n",
    "\n",
    "The original git is here: https://github.com/ivangrov/YOLOv3-GoogleColab\n",
    "\n",
    "### PyTorch Version of YOLO.v3\n",
    "\n",
    "If you want a PyTorch version of YOLO.v3, try this one out: https://github.com/awangenh/yolov3 It contains a fork of PyTorch YOLOv3 software for inference and training for the YOLO.v3 in PyTorch developed by Ultralytics LLC, and is freely available for redistribution under the GPL-3.0 license. For more information please visit https://www.ultralytics.com.\n",
    "\n",
    "### Additional Credits\n",
    "\n",
    "Credit to Joseph Redmon for YOLO: https://pjreddie.com/darknet/yolo/."
   ]
  },
  {
   "cell_type": "code",
   "execution_count": null,
   "metadata": {
    "colab": {
     "base_uri": "https://localhost:8080/",
     "height": 1462
    },
    "colab_type": "code",
    "id": "yK8UdprRYE81",
    "outputId": "6061b525-a5d7-4e77-f511-d11649661fa0"
   },
   "outputs": [],
   "source": [
    "#Hey what up,people! Hope you're having a good day! \n",
    "#Here I'm gonna show ya how to set up YOLOv3 the darknet version on Colab\n",
    "#And use it to process images, video, and, especially, TRAIN your models!!\n",
    "#You can contant me at https://twitter.com/Ivangrov, if you have questions\n",
    "#Or something's not working\n",
    "#Are you excited? Let's go!\n",
    "#Don't forget to select GPU! \n",
    "\n",
    "\n",
    "#First, let's get some updates\n",
    "!apt-get update\n",
    "!apt-get upgrade"
   ]
  },
  {
   "cell_type": "code",
   "execution_count": null,
   "metadata": {
    "colab": {
     "base_uri": "https://localhost:8080/",
     "height": 5236
    },
    "colab_type": "code",
    "id": "kBKlzBoCYzgo",
    "outputId": "e71e1433-423e-4dd9-da0d-3bff58e5e614"
   },
   "outputs": [],
   "source": [
    "#Now here's some important stuff: after long and painful trial and error\n",
    "#I found that OpenCV can only really be installed through apt-get if you \n",
    "#intsall this stuff first , got no idea which libraries are actually useful\n",
    "#here though, to be frank, but everything works only after this step! =) \n",
    "\n",
    "\n",
    "!apt-get install build-essential\n",
    "!apt-get install cmake git libgtk2.0-dev pkg-config libavcodec-dev libavformat-dev libswscale-dev"
   ]
  },
  {
   "cell_type": "code",
   "execution_count": null,
   "metadata": {
    "colab": {
     "base_uri": "https://localhost:8080/",
     "height": 85
    },
    "colab_type": "code",
    "id": "zae3hk2VZm-r",
    "outputId": "b181f454-5a60-484a-cb31-75b710834af8"
   },
   "outputs": [],
   "source": [
    "#And some more...\n",
    "!apt-get install libavcodec-dev libavformat-dev libswscale-d"
   ]
  },
  {
   "cell_type": "code",
   "execution_count": null,
   "metadata": {
    "colab": {
     "base_uri": "https://localhost:8080/",
     "height": 170
    },
    "colab_type": "code",
    "id": "aPuW6Lk7Zrv_",
    "outputId": "5b8b44c6-cfbb-4837-b8aa-7933ae66a049"
   },
   "outputs": [],
   "source": [
    "!apt-get -y install cmake\n",
    "!which cmake\n",
    "\n",
    "!cmake --version"
   ]
  },
  {
   "cell_type": "code",
   "execution_count": null,
   "metadata": {
    "colab": {
     "base_uri": "https://localhost:8080/",
     "height": 102
    },
    "colab_type": "code",
    "id": "NQhmk_N1rpBl",
    "outputId": "cee9574c-862e-4aaa-834a-de2f72975478"
   },
   "outputs": [],
   "source": [
    "#Installing OpenCV\n",
    "!apt-get install libopencv-dev"
   ]
  },
  {
   "cell_type": "code",
   "execution_count": null,
   "metadata": {
    "colab": {
     "base_uri": "https://localhost:8080/",
     "height": 136
    },
    "colab_type": "code",
    "id": "Q8gCXSX5Zsll",
    "outputId": "79cc3e0f-266a-438c-b37a-27a2f6f8a2aa"
   },
   "outputs": [],
   "source": [
    "#Now let's clone Darknet fork from AlexeyAB that let's us put in the -dont_show flag\n",
    "#That turns out to be quite handy, since we've got no display here :D\n",
    "# My fork GitHub represents the state when everything worked, so use this:\n",
    "!git clone https://github.com/awangenh/darknet\n",
    "# Originally: \n",
    "# !git clone https://github.com/AlexeyAB/darknet"
   ]
  },
  {
   "cell_type": "code",
   "execution_count": null,
   "metadata": {
    "colab": {
     "base_uri": "https://localhost:8080/",
     "height": 918
    },
    "colab_type": "code",
    "id": "AeeFXM8jaGhy",
    "outputId": "a725ab4c-0463-4e77-d705-e304010ba4ed"
   },
   "outputs": [],
   "source": [
    "#!cat throws an error on Makefile, so I use !vim to verify whether we \n",
    "#actually successfuly modified the Makefile\n",
    "!apt-get install vim"
   ]
  },
  {
   "cell_type": "code",
   "execution_count": null,
   "metadata": {
    "colab": {
     "base_uri": "https://localhost:8080/",
     "height": 34
    },
    "colab_type": "code",
    "id": "7N6AO18HaR2f",
    "outputId": "0daad0d5-5592-4760-9297-8cc90d7bdf89"
   },
   "outputs": [],
   "source": [
    "#Uncomment !vim line to check the Makefile, beware that you'll need to\n",
    "#manually puase this cell to move forward\n",
    "\n",
    "%cd darknet\n",
    "#!vim Makefile\n"
   ]
  },
  {
   "cell_type": "code",
   "execution_count": null,
   "metadata": {
    "colab": {
     "base_uri": "https://localhost:8080/",
     "height": 272
    },
    "colab_type": "code",
    "id": "HunwOD0SadrX",
    "outputId": "0873a279-8999-46d4-c0dc-17b937fa57eb"
   },
   "outputs": [],
   "source": [
    "#Now let's get some YOLOv3 weights from the official site\n",
    "!ls\n",
    "!wget https://pjreddie.com/media/files/yolov3.weights"
   ]
  },
  {
   "cell_type": "code",
   "execution_count": null,
   "metadata": {
    "colab": {
     "base_uri": "https://localhost:8080/",
     "height": 85
    },
    "colab_type": "code",
    "id": "89sNUACeah0z",
    "outputId": "036c8db7-96f3-4eb5-bdd0-6dead5eaad0c"
   },
   "outputs": [],
   "source": [
    "#No here we're modifying the makefile to set OPENCV and GPU to 1\n",
    "!ls\n",
    "!sed -i 's/OPENCV=0/OPENCV=1/g' Makefile\n",
    "!sed -i 's/GPU=0/GPU=1/g' Makefile"
   ]
  },
  {
   "cell_type": "code",
   "execution_count": null,
   "metadata": {
    "colab": {},
    "colab_type": "code",
    "id": "ABQGYSHra1C7"
   },
   "outputs": [],
   "source": [
    "#Uncomment to check whether it worked, needs to be stopped manually \n",
    "#!vim Makefile"
   ]
  },
  {
   "cell_type": "code",
   "execution_count": null,
   "metadata": {
    "colab": {
     "base_uri": "https://localhost:8080/",
     "height": 119
    },
    "colab_type": "code",
    "id": "GRACEgd_a7_i",
    "outputId": "30decfdf-385c-499f-96f8-5dcc8abc8feb"
   },
   "outputs": [],
   "source": [
    "#Going to the parent directory\n",
    "!ls\n",
    "%cd ../\n",
    "!ls"
   ]
  },
  {
   "cell_type": "code",
   "execution_count": null,
   "metadata": {
    "colab": {
     "base_uri": "https://localhost:8080/",
     "height": 187
    },
    "colab_type": "code",
    "id": "uWx5-AkZCpYF",
    "outputId": "6703b0eb-e434-42f7-ff41-3bef69966566"
   },
   "outputs": [],
   "source": [
    "!apt install g++-5\n",
    "!apt install gcc-5\n",
    "\n",
    "!update-alternatives --install /usr/bin/gcc gcc /usr/bin/gcc-5 10\n",
    "!update-alternatives --install /usr/bin/gcc gcc /usr/bin/gcc-5 20\n",
    "!update-alternatives --install /usr/bin/g++ g++ /usr/bin/g++-5 10\n",
    "!update-alternatives --install /usr/bin/g++ g++ /usr/bin/g++-5 20\n",
    "!update-alternatives --install /usr/bin/cc cc /usr/bin/gcc 30\n",
    "!update-alternatives --set cc /usr/bin/gcc\n",
    "!update-alternatives --install /usr/bin/c++ c++ /usr/bin/g++ 30\n",
    "!update-alternatives --set c++ /usr/bin/g++"
   ]
  },
  {
   "cell_type": "code",
   "execution_count": null,
   "metadata": {
    "colab": {
     "base_uri": "https://localhost:8080/",
     "height": 4202
    },
    "colab_type": "code",
    "id": "zc4VUzU7bAC1",
    "outputId": "b52d3ea7-aa3c-4ddd-9a2d-8af0d0f59ef0"
   },
   "outputs": [],
   "source": [
    "#Now, here's a bunch of code that takes the longest to execute here but\n",
    "#It's about installing CUDA and using the beautiful Tesla K80 GPU, so that\n",
    "#Will worth it\n",
    "\n",
    "!apt update -qq;\n",
    "!wget https://developer.nvidia.com/compute/cuda/8.0/Prod2/local_installers/cuda-repo-ubuntu1604-8-0-local-ga2_8.0.61-1_amd64-deb\n",
    "!dpkg -i cuda-repo-ubuntu1604-8-0-local-ga2_8.0.61-1_amd64-deb\n",
    "!apt-get update -qq\n",
    "\n",
    "#Here were are installing compilers and creating some links\n",
    "!apt-get install cuda -y -qq #gcc-5 g++-5 \n",
    "#!ln -s /usr/bin/gcc-5 /usr/local/cuda/bin/gcc\n",
    "#!ln -s /usr/bin/g++-5 /usr/local/cuda/bin/g++\n",
    "!apt update\n",
    "!apt upgrade\n",
    "!apt install cuda-8.0 -y"
   ]
  },
  {
   "cell_type": "code",
   "execution_count": null,
   "metadata": {
    "colab": {},
    "colab_type": "code",
    "id": "sgrZLmhp5xEH"
   },
   "outputs": [],
   "source": []
  },
  {
   "cell_type": "code",
   "execution_count": null,
   "metadata": {
    "colab": {
     "base_uri": "https://localhost:8080/",
     "height": 119
    },
    "colab_type": "code",
    "id": "aS1RVY_RbRmT",
    "outputId": "fdd22474-be8f-4ad9-9625-36d41e0fea44"
   },
   "outputs": [],
   "source": [
    "#Now let's see whether the GPU is here and CUDA was successfully installed!\n",
    "import tensorflow as tf\n",
    "device_name = tf.test.gpu_device_name()\n",
    "print(device_name)\n",
    "\n",
    "print(\"'sup!'\")\n",
    "\n",
    "!/usr/local/cuda/bin/nvcc --version"
   ]
  },
  {
   "cell_type": "code",
   "execution_count": null,
   "metadata": {
    "colab": {
     "base_uri": "https://localhost:8080/",
     "height": 12940
    },
    "colab_type": "code",
    "id": "xOSlmCzibg7v",
    "outputId": "8855e807-869b-451d-f360-2bbb9eb019d2"
   },
   "outputs": [],
   "source": [
    "#Okay, if so far no crazy FBI agents are knocking on your doors asking you\n",
    "#To stop playing with DARKNET we can actually go and !MAKE it\n",
    "\n",
    "%cd darknet\n",
    "!make"
   ]
  },
  {
   "cell_type": "code",
   "execution_count": null,
   "metadata": {
    "colab": {
     "base_uri": "https://localhost:8080/",
     "height": 2125
    },
    "colab_type": "code",
    "id": "anCwv4OIcKMF",
    "outputId": "8b214b32-478b-4e74-872a-0874de7e86ec"
   },
   "outputs": [],
   "source": [
    "!ls\n",
    "#Now, let's see if everything works by running it on a test image\n",
    "!./darknet detect cfg/yolov3.cfg yolov3.weights data/person.jpg\n"
   ]
  },
  {
   "cell_type": "code",
   "execution_count": null,
   "metadata": {
    "colab": {},
    "colab_type": "code",
    "id": "KpZcK-RNche9"
   },
   "outputs": [],
   "source": [
    "#Let's define some functions that will let us show images, and upload and \n",
    "#download files\n",
    "def imShow(path):\n",
    "  import cv2\n",
    "  import matplotlib.pyplot as plt\n",
    "  %matplotlib inline\n",
    "\n",
    "  image = cv2.imread(path)\n",
    "  height, width = image.shape[:2]\n",
    "  resized_image = cv2.resize(image,(3*width, 3*height), interpolation = cv2.INTER_CUBIC)\n",
    "\n",
    "  fig = plt.gcf()\n",
    "  fig.set_size_inches(18, 10)\n",
    "  plt.axis(\"off\")\n",
    "  #plt.rcParams['figure.figsize'] = [10, 5]\n",
    "  plt.imshow(cv2.cvtColor(resized_image, cv2.COLOR_BGR2RGB))\n",
    "  plt.show()\n",
    "  \n",
    "  \n",
    "def upload():\n",
    "  from google.colab import files\n",
    "  uploaded = files.upload() \n",
    "  for name, data in uploaded.items():\n",
    "    with open(name, 'wb') as f:\n",
    "      f.write(data)\n",
    "      print ('saved file', name)\n",
    "def download(path):\n",
    "  from google.colab import files\n",
    "  files.download(path)"
   ]
  },
  {
   "cell_type": "code",
   "execution_count": null,
   "metadata": {
    "colab": {
     "base_uri": "https://localhost:8080/",
     "height": 595
    },
    "colab_type": "code",
    "id": "F0GDcxsycqFM",
    "outputId": "eb7032c2-8074-4277-b54f-743842179d29"
   },
   "outputs": [],
   "source": [
    "#You should see a person, a dog and a horse here and they might even see you.....\n",
    "imShow('predictions.jpg')"
   ]
  },
  {
   "cell_type": "code",
   "execution_count": null,
   "metadata": {
    "colab": {
     "base_uri": "https://localhost:8080/",
     "height": 102
    },
    "colab_type": "code",
    "id": "mCR6jMQwoqJ0",
    "outputId": "d50600e1-ac4b-4373-f8ca-8be58c99b0a2"
   },
   "outputs": [],
   "source": [
    "%cd data\n",
    "!ls"
   ]
  },
  {
   "cell_type": "code",
   "execution_count": null,
   "metadata": {
    "colab": {},
    "colab_type": "code",
    "id": "UErfpJwKHxDO"
   },
   "outputs": [],
   "source": [
    "#ATTENTION! AT THIS POINT YOU'VE INSTALLED DARKNET AND IF YOU SEE THE IMAGE, IT WORKS! SO FROM NOW ON THE REST OF THE NOTEBOOK IS MADE OF TIPS AND TRICKS, AND COMMENTED CODE\n",
    "#THAT I USED MYSELF, SO HERE YOU WANNA PUT EVERYTHING TOGETHER ACCORDING TO YOUR NEEDS, YOU KNOW"
   ]
  },
  {
   "cell_type": "code",
   "execution_count": null,
   "metadata": {
    "colab": {
     "base_uri": "https://localhost:8080/",
     "height": 1013
    },
    "colab_type": "code",
    "id": "qTG_JQc4pAjB",
    "outputId": "5a715b85-8f86-48f0-f26c-4f189b52d38e",
    "scrolled": true
   },
   "outputs": [],
   "source": [
    "#Here's how you can mount into your Google Drive, if you wanna\n",
    "#from google.colab import drive\n",
    "#drive.mount('/content/drive')"
   ]
  },
  {
   "cell_type": "code",
   "execution_count": null,
   "metadata": {
    "colab": {},
    "colab_type": "code",
    "id": "KYNrOtfl1RQe"
   },
   "outputs": [],
   "source": [
    "#!./darknet detector calc_anchors data/obj.data -num_of_clusters 9 -width 416 -height 416"
   ]
  },
  {
   "cell_type": "code",
   "execution_count": null,
   "metadata": {
    "colab": {},
    "colab_type": "code",
    "id": "FUC1XoTUFHme"
   },
   "outputs": [],
   "source": [
    "#!cat data/obj.names"
   ]
  },
  {
   "cell_type": "code",
   "execution_count": null,
   "metadata": {
    "colab": {},
    "colab_type": "code",
    "id": "JyusZSUO7Xfy"
   },
   "outputs": [],
   "source": [
    "#!ls\n",
    "#upload()"
   ]
  },
  {
   "cell_type": "code",
   "execution_count": null,
   "metadata": {
    "colab": {},
    "colab_type": "code",
    "id": "C2Ay9kJEypGy"
   },
   "outputs": [],
   "source": [
    "#!wget https://pjreddie.com/media/files/darknet53.conv.74\n",
    "#!ls"
   ]
  },
  {
   "cell_type": "code",
   "execution_count": null,
   "metadata": {
    "colab": {},
    "colab_type": "code",
    "id": "g7rdKdooGJDU"
   },
   "outputs": [],
   "source": [
    "#%%capture - uncomment if you wanna supress the output\n",
    "#!./darknet detector train data/obj.data yolov3-obj.cfg backup/yolov3-obj_last6.weights -dont_show"
   ]
  },
  {
   "cell_type": "code",
   "execution_count": null,
   "metadata": {
    "colab": {},
    "colab_type": "code",
    "id": "ftPED3F27xxd"
   },
   "outputs": [],
   "source": [
    "#Get YOLOv3-tiny weights\n",
    "#!wget https://pjreddie.com/media/files/yolov3-tiny.weights\n",
    "#!ls"
   ]
  },
  {
   "cell_type": "code",
   "execution_count": null,
   "metadata": {
    "colab": {},
    "colab_type": "code",
    "id": "Ar8tMgGz8Rja"
   },
   "outputs": [],
   "source": [
    "#Partial the weights\n",
    "#!ls\n",
    "#!./darknet partial yolov3-tiny-obj.cfg yolov3-tiny.weights  yolov3-tiny.conv.15 15\n",
    "#!ls"
   ]
  },
  {
   "cell_type": "code",
   "execution_count": null,
   "metadata": {
    "colab": {},
    "colab_type": "code",
    "id": "gOwMjijsZ-PB"
   },
   "outputs": [],
   "source": [
    "#Process a video names test.mp4 and save is as result3.mp4\n",
    "#!./darknet detector demo data/obj.data yolov3-tiny-obj.cfg backup/yolov3-tiny-obj_4000.weights -dont_show test.mp4 -out_filename result3.mp4"
   ]
  },
  {
   "cell_type": "code",
   "execution_count": null,
   "metadata": {
    "colab": {},
    "colab_type": "code",
    "id": "wfkwSYILjgWy"
   },
   "outputs": [],
   "source": [
    "#Now, if you're here and it all works, then you've basically gotten yourself to the most important part:\n",
    "#You have it all set up and installed and can do some damage\n",
    "#Next I'll be showing how to process video and train your YOLO model here"
   ]
  },
  {
   "cell_type": "code",
   "execution_count": null,
   "metadata": {
    "colab": {},
    "colab_type": "code",
    "id": "Xk4rUTQ6cxtf"
   },
   "outputs": [],
   "source": [
    "#Now, let's figure out how to process some videos and then we'll get to the trainin'\n",
    "#First, you gotta get the video somewhere here are your options:\n",
    "#Spend a year manually coding every bit of a 'video' to Colab, upload one \n",
    "#from your machine, or download one from the Internet\n",
    "#To upload one from your machine just call the upload() function, to\n",
    "#download from the web use !wget and a download link\n",
    "\n",
    "!ls\n",
    "#Like this, though the video's not here\n",
    "#!wget https://sv85.onlinevideoconverter.com/download?file=e4a0b1j9h7g6g6b1\n",
    "!ls\n",
    "#Also, don't forget to throw around a bunch of !ls's to just understand what's\n",
    "#going on just a little\n"
   ]
  },
  {
   "cell_type": "code",
   "execution_count": null,
   "metadata": {
    "colab": {},
    "colab_type": "code",
    "id": "RI3uYTfyeIju"
   },
   "outputs": [],
   "source": [
    "#Here in my case I had to rename the video\n",
    "#!mv download?file=e4a0b1j9h7g6g6b1 fiddlevideo.mp4\n",
    "#!ls"
   ]
  },
  {
   "cell_type": "code",
   "execution_count": null,
   "metadata": {
    "colab": {},
    "colab_type": "code",
    "id": "Vl4lzORreHiB"
   },
   "outputs": [],
   "source": [
    "#Here's the command for processing video, make sure you have the weights and\n",
    "#It'll be saved as result.avi\n",
    "\n",
    "!./darknet detector demo cfg/coco.data cfg/yolov3.cfg yolov3.weights -dont_show fiddlevideo.mp4 -i 0 -out_filename fiddlevideo1.avi"
   ]
  },
  {
   "cell_type": "code",
   "execution_count": null,
   "metadata": {
    "colab": {},
    "colab_type": "code",
    "id": "UIeayC8neb2a"
   },
   "outputs": [],
   "source": [
    "#Then you can download the video to your machine, just call\n",
    "#download('name_of_the_video') , and keep throwing !ls's !!\n",
    "!ls"
   ]
  },
  {
   "cell_type": "code",
   "execution_count": null,
   "metadata": {
    "colab": {},
    "colab_type": "code",
    "id": "f2f1ojrxPrKr"
   },
   "outputs": [],
   "source": [
    "download('fiddlevideo1.avi')"
   ]
  },
  {
   "cell_type": "code",
   "execution_count": null,
   "metadata": {
    "colab": {},
    "colab_type": "code",
    "id": "j_xTFAdmIRFu"
   },
   "outputs": [],
   "source": [
    "#After you've trained your model you can also run it against an image\n",
    "!wget https://s9.stc.all.kpcdn.net/share/i/12/10186046/inx960x640.jpg\n",
    "!./darknet detector test data/obj.data yolov3-tiny-obj.cfg backup/yolov3-tiny-obj_1000.weights inx960x640.jpg -i 0 -thresh 0.15\n",
    "#Show the image\n",
    "imShow('predictions.jpg')"
   ]
  },
  {
   "cell_type": "code",
   "execution_count": null,
   "metadata": {
    "colab": {},
    "colab_type": "code",
    "id": "QruSb7H9epV_"
   },
   "outputs": [],
   "source": [
    "#Okay, so if you're familiar with AlexeyAB's darknet fork you know that we'll\n",
    "#need 5 things:\n",
    "#Obj folder (training data)\n",
    "#Obj.data, Obj.name file\n",
    "#train.txt file\n",
    "#Weights and the edited CFG model \n",
    "#Go here https://github.com/AlexeyAB/darknet/ to figure out what you need\n",
    "#So, you'll basically need to edit all that stuff on your machine and prepare\n",
    "#it to be  uploaded, unless you're a ninja can do that all here, which I can't -_-\n",
    "\n",
    "\n",
    "# Use %cd <directory> and %cd ../ to navigate the directories to put everything\n",
    "#in place"
   ]
  },
  {
   "cell_type": "code",
   "execution_count": null,
   "metadata": {
    "colab": {},
    "colab_type": "code",
    "id": "OhVBpETufgV7"
   },
   "outputs": [],
   "source": [
    "#Upload cfg file (make sure that you're in darknet folder)\n",
    "#upload()\n",
    "#and check the results:\n",
    "#!ls\n",
    "#Just copy this code and repeat it for as long as you need"
   ]
  },
  {
   "cell_type": "code",
   "execution_count": null,
   "metadata": {
    "colab": {},
    "colab_type": "code",
    "id": "m-5nywBLgE7b"
   },
   "outputs": [],
   "source": [
    "#Then call\n",
    "#!unzip obj.zip\n",
    "#And there you have a folder with your data\n"
   ]
  },
  {
   "cell_type": "code",
   "execution_count": null,
   "metadata": {
    "colab": {},
    "colab_type": "code",
    "id": "We9BzF2mgRdS"
   },
   "outputs": [],
   "source": [
    "#Now, once you've put everything in place, you can run the command, in my case that was:\n",
    "!./darknet detector train data/obj.data yolov3-tiny-obj.cfg yolov3-tiny.conv.15 -dont_show\n",
    "#Don't forget the dont_show flag, it's good for your health ;)"
   ]
  },
  {
   "cell_type": "code",
   "execution_count": null,
   "metadata": {
    "colab": {},
    "colab_type": "code",
    "id": "GMAhYHkOgM4F"
   },
   "outputs": [],
   "source": [
    "#Once the model's trained you can go to the backup folder\n",
    "#and call download('weights') to get the trained weights you want, in my case\n",
    "download('yolov3-tiny-obj_1500.weights')"
   ]
  },
  {
   "cell_type": "code",
   "execution_count": null,
   "metadata": {
    "colab": {},
    "colab_type": "code",
    "id": "ah2Z8hy2gtky"
   },
   "outputs": [],
   "source": [
    "#So, there we go! I mean, the hard part is to get everything up and going \n",
    "#And you can do pretty much anything once you did that))\n",
    "#Feel free to correct the errors (when something will stop working in the future)\n",
    "#And if that was useful, my dear AI wizard, go and do some good and cool stuff with it! =)"
   ]
  },
  {
   "cell_type": "markdown",
   "metadata": {},
   "source": [
    "![banner Creative Commons INCoD UFSC](http://www.lapix.ufsc.br/wp-content/uploads/2019/05/cc.png)"
   ]
  }
 ],
 "metadata": {
  "accelerator": "GPU",
  "colab": {
   "name": "Copy of Copy of Untitled7.ipynb",
   "provenance": [],
   "version": "0.3.2"
  },
  "kernelspec": {
   "display_name": "Python 3",
   "language": "python",
   "name": "python3"
  },
  "language_info": {
   "codemirror_mode": {
    "name": "ipython",
    "version": 3
   },
   "file_extension": ".py",
   "mimetype": "text/x-python",
   "name": "python",
   "nbconvert_exporter": "python",
   "pygments_lexer": "ipython3",
   "version": "3.6.9"
  },
  "varInspector": {
   "cols": {
    "lenName": "20",
    "lenType": "20",
    "lenVar": "60"
   },
   "kernels_config": {
    "python": {
     "delete_cmd_postfix": "",
     "delete_cmd_prefix": "del ",
     "library": "var_list.py",
     "varRefreshCmd": "print(var_dic_list())"
    },
    "r": {
     "delete_cmd_postfix": ") ",
     "delete_cmd_prefix": "rm(",
     "library": "var_list.r",
     "varRefreshCmd": "cat(var_dic_list()) "
    }
   },
   "types_to_exclude": [
    "module",
    "function",
    "builtin_function_or_method",
    "instance",
    "_Feature"
   ],
   "window_display": false
  }
 },
 "nbformat": 4,
 "nbformat_minor": 1
}
