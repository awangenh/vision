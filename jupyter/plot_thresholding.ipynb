{
 "cells": [
  {
   "cell_type": "code",
   "execution_count": null,
   "metadata": {},
   "outputs": [],
   "source": [
    "%matplotlib inline"
   ]
  },
  {
   "cell_type": "markdown",
   "metadata": {},
   "source": [
    "\n",
    "# Thresholding\n",
    "\n",
    "\n",
    "Thresholding is used to create a binary image from a grayscale image [1]_.\n",
    "It is the simplest way to segment objects from a background.\n",
    "\n",
    "Thresholding algorithms implemented in scikit-image can be separated in two\n",
    "categories:\n",
    "\n",
    "- Histogram-based. The histogram of the pixels' intensity is used and\n",
    "  certain assumptions are made on the properties of this histogram (e.g. bimodal).\n",
    "- Local. To process a pixel, only the neighboring pixels are used.\n",
    "  These algorithms often require more computation time.\n",
    "\n",
    "\n",
    "If you are not familiar with the details of the different algorithms and the\n",
    "underlying assumptions, it is often difficult to know which algorithm will give\n",
    "the best results. Therefore, Scikit-image includes a function to evaluate\n",
    "thresholding algorithms provided by the library. At a glance, you can select\n",
    "the best algorithm for you data without a deep understanding of their\n",
    "mechanisms.\n",
    "\n",
    ".. [1] https://en.wikipedia.org/wiki/Thresholding_%28image_processing%29\n",
    "\n",
    ".. seealso::\n",
    "   Presentation on\n",
    "   `sphx_glr_auto_examples_xx_applications_plot_rank_filters.py`.\n",
    "\n"
   ]
  },
  {
   "cell_type": "code",
   "execution_count": null,
   "metadata": {},
   "outputs": [],
   "source": [
    "import matplotlib\n",
    "import matplotlib.pyplot as plt\n",
    "\n",
    "from skimage import data\n",
    "from skimage.filters import try_all_threshold\n",
    "\n",
    "img = data.page()\n",
    "\n",
    "fig, ax = try_all_threshold(img, figsize=(10, 8), verbose=False)\n",
    "plt.show()"
   ]
  },
  {
   "cell_type": "markdown",
   "metadata": {},
   "source": [
    "How to apply a threshold?\n",
    "=========================\n",
    "\n",
    "Now, we illustrate how to apply one of these thresholding algorithms.\n",
    "This example uses the mean value of pixel intensities. It is a simple\n",
    "and naive threshold value, which is sometimes used as a guess value.\n",
    "\n",
    "\n"
   ]
  },
  {
   "cell_type": "code",
   "execution_count": null,
   "metadata": {},
   "outputs": [],
   "source": [
    "from skimage.filters import threshold_mean\n",
    "\n",
    "\n",
    "image = data.camera()\n",
    "thresh = threshold_mean(image)\n",
    "binary = image > thresh\n",
    "\n",
    "fig, axes = plt.subplots(ncols=2, figsize=(8, 3))\n",
    "ax = axes.ravel()\n",
    "\n",
    "ax[0].imshow(image, cmap=plt.cm.gray)\n",
    "ax[0].set_title('Original image')\n",
    "\n",
    "ax[1].imshow(binary, cmap=plt.cm.gray)\n",
    "ax[1].set_title('Result')\n",
    "\n",
    "for a in ax:\n",
    "    a.axis('off')\n",
    "\n",
    "plt.show()"
   ]
  },
  {
   "cell_type": "markdown",
   "metadata": {},
   "source": [
    "Bimodal histogram\n",
    "=================\n",
    "\n",
    "For pictures with a bimodal histogram, more specific algorithms can be used.\n",
    "For instance, the minimum algorithm takes a histogram of the image and smooths it\n",
    "repeatedly until there are only two peaks in the histogram.\n",
    "\n"
   ]
  },
  {
   "cell_type": "code",
   "execution_count": null,
   "metadata": {},
   "outputs": [],
   "source": [
    "from skimage.filters import threshold_minimum\n",
    "\n",
    "\n",
    "image = data.camera()\n",
    "\n",
    "thresh_min = threshold_minimum(image)\n",
    "binary_min = image > thresh_min\n",
    "\n",
    "fig, ax = plt.subplots(2, 2, figsize=(10, 10))\n",
    "\n",
    "ax[0, 0].imshow(image, cmap=plt.cm.gray)\n",
    "ax[0, 0].set_title('Original')\n",
    "\n",
    "ax[0, 1].hist(image.ravel(), bins=256)\n",
    "ax[0, 1].set_title('Histogram')\n",
    "\n",
    "ax[1, 0].imshow(binary_min, cmap=plt.cm.gray)\n",
    "ax[1, 0].set_title('Thresholded (min)')\n",
    "\n",
    "ax[1, 1].hist(image.ravel(), bins=256)\n",
    "ax[1, 1].axvline(thresh_min, color='r')\n",
    "\n",
    "for a in ax[:, 0]:\n",
    "    a.axis('off')\n",
    "plt.show()"
   ]
  },
  {
   "cell_type": "markdown",
   "metadata": {},
   "source": [
    "Otsu's method [2]_ calculates an \"optimal\" threshold (marked by a red line in the\n",
    "histogram below) by maximizing the variance between two classes of pixels,\n",
    "which are separated by the threshold. Equivalently, this threshold minimizes\n",
    "the intra-class variance.\n",
    "\n",
    ".. [2] http://en.wikipedia.org/wiki/Otsu's_method\n",
    "\n",
    "\n"
   ]
  },
  {
   "cell_type": "code",
   "execution_count": null,
   "metadata": {},
   "outputs": [],
   "source": [
    "from skimage.filters import threshold_otsu\n",
    "\n",
    "\n",
    "image = data.camera()\n",
    "thresh = threshold_otsu(image)\n",
    "binary = image > thresh\n",
    "\n",
    "fig, axes = plt.subplots(ncols=3, figsize=(8, 2.5))\n",
    "ax = axes.ravel()\n",
    "ax[0] = plt.subplot(1, 3, 1)\n",
    "ax[1] = plt.subplot(1, 3, 2)\n",
    "ax[2] = plt.subplot(1, 3, 3, sharex=ax[0], sharey=ax[0])\n",
    "\n",
    "ax[0].imshow(image, cmap=plt.cm.gray)\n",
    "ax[0].set_title('Original')\n",
    "ax[0].axis('off')\n",
    "\n",
    "ax[1].hist(image.ravel(), bins=256)\n",
    "ax[1].set_title('Histogram')\n",
    "ax[1].axvline(thresh, color='r')\n",
    "\n",
    "ax[2].imshow(binary, cmap=plt.cm.gray)\n",
    "ax[2].set_title('Thresholded')\n",
    "ax[2].axis('off')\n",
    "\n",
    "plt.show()"
   ]
  },
  {
   "cell_type": "markdown",
   "metadata": {},
   "source": [
    "Local thresholding\n",
    "==================\n",
    "\n",
    "If the image background is relatively uniform, then you can use a global\n",
    "threshold value as presented above. However, if there is large variation in the\n",
    "background intensity, adaptive thresholding (a.k.a. local or dynamic\n",
    "thresholding) may produce better results. Note that local is much slower than\n",
    "global thresholding.\n",
    "\n",
    "Here, we binarize an image using the `threshold_local` function, which\n",
    "calculates thresholds in regions with a characteristic size `block_size` surrounding\n",
    "each pixel (i.e. local neighborhoods). Each threshold value is the weighted mean\n",
    "of the local neighborhood minus an offset value.\n",
    "\n",
    "\n"
   ]
  },
  {
   "cell_type": "code",
   "execution_count": null,
   "metadata": {},
   "outputs": [],
   "source": [
    "from skimage.filters import threshold_otsu, threshold_local\n",
    "\n",
    "\n",
    "image = data.page()\n",
    "\n",
    "global_thresh = threshold_otsu(image)\n",
    "binary_global = image > global_thresh\n",
    "\n",
    "block_size = 35\n",
    "adaptive_thresh = threshold_local(image, block_size, offset=10)\n",
    "binary_adaptive = image > adaptive_thresh\n",
    "\n",
    "fig, axes = plt.subplots(nrows=3, figsize=(7, 8))\n",
    "ax = axes.ravel()\n",
    "plt.gray()\n",
    "\n",
    "ax[0].imshow(image)\n",
    "ax[0].set_title('Original')\n",
    "\n",
    "ax[1].imshow(binary_global)\n",
    "ax[1].set_title('Global thresholding')\n",
    "\n",
    "ax[2].imshow(binary_adaptive)\n",
    "ax[2].set_title('Adaptive thresholding')\n",
    "\n",
    "for a in ax:\n",
    "    a.axis('off')\n",
    "\n",
    "plt.show()"
   ]
  },
  {
   "cell_type": "markdown",
   "metadata": {},
   "source": [
    "Now, we show how Otsu's threshold [2]_ method can be applied locally. For\n",
    "each pixel, an \"optimal\" threshold is determined by maximizing the variance\n",
    "between two classes of pixels of the local neighborhood defined by a\n",
    "structuring element.\n",
    "\n",
    "The example compares the local threshold with the global threshold.\n",
    "\n",
    "\n"
   ]
  },
  {
   "cell_type": "code",
   "execution_count": null,
   "metadata": {},
   "outputs": [],
   "source": [
    "from skimage.morphology import disk\n",
    "from skimage.filters import threshold_otsu, rank\n",
    "from skimage.util import img_as_ubyte\n",
    "\n",
    "\n",
    "img = img_as_ubyte(data.page())\n",
    "\n",
    "radius = 15\n",
    "selem = disk(radius)\n",
    "\n",
    "local_otsu = rank.otsu(img, selem)\n",
    "threshold_global_otsu = threshold_otsu(img)\n",
    "global_otsu = img >= threshold_global_otsu\n",
    "\n",
    "fig, axes = plt.subplots(2, 2, figsize=(8, 5), sharex=True, sharey=True)\n",
    "ax = axes.ravel()\n",
    "plt.tight_layout()\n",
    "\n",
    "fig.colorbar(ax[0].imshow(img, cmap=plt.cm.gray),\n",
    "             ax=ax[0], orientation='horizontal')\n",
    "ax[0].set_title('Original')\n",
    "ax[0].axis('off')\n",
    "\n",
    "fig.colorbar(ax[1].imshow(local_otsu, cmap=plt.cm.gray),\n",
    "             ax=ax[1], orientation='horizontal')\n",
    "ax[1].set_title('Local Otsu (radius=%d)' % radius)\n",
    "ax[1].axis('off')\n",
    "\n",
    "ax[2].imshow(img >= local_otsu, cmap=plt.cm.gray)\n",
    "ax[2].set_title('Original >= Local Otsu' % threshold_global_otsu)\n",
    "ax[2].axis('off')\n",
    "\n",
    "ax[3].imshow(global_otsu, cmap=plt.cm.gray)\n",
    "ax[3].set_title('Global Otsu (threshold = %d)' % threshold_global_otsu)\n",
    "ax[3].axis('off')\n",
    "\n",
    "plt.show()"
   ]
  }
 ],
 "metadata": {
  "kernelspec": {
   "display_name": "Python 3",
   "language": "python",
   "name": "python3"
  },
  "language_info": {
   "codemirror_mode": {
    "name": "ipython",
    "version": 3
   },
   "file_extension": ".py",
   "mimetype": "text/x-python",
   "name": "python",
   "nbconvert_exporter": "python",
   "pygments_lexer": "ipython3",
   "version": "3.6.9"
  },
  "varInspector": {
   "cols": {
    "lenName": "20",
    "lenType": "20",
    "lenVar": "60"
   },
   "kernels_config": {
    "python": {
     "delete_cmd_postfix": "",
     "delete_cmd_prefix": "del ",
     "library": "var_list.py",
     "varRefreshCmd": "print(var_dic_list())"
    },
    "r": {
     "delete_cmd_postfix": ") ",
     "delete_cmd_prefix": "rm(",
     "library": "var_list.r",
     "varRefreshCmd": "cat(var_dic_list()) "
    }
   },
   "types_to_exclude": [
    "module",
    "function",
    "builtin_function_or_method",
    "instance",
    "_Feature"
   ],
   "window_display": false
  }
 },
 "nbformat": 4,
 "nbformat_minor": 1
}
