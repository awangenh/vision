{
 "cells": [
  {
   "cell_type": "markdown",
   "metadata": {},
   "source": [
    "# INE 5420 - Computação Gráfica\n",
    "\n",
    " * http://www.lapix.ufsc.br/ensino/computacao-grafica/\n",
    "\n",
    "<a href=\"https://colab.research.google.com/drive/1-o4NErMUjMSHBvJDrkTs_b1w4rtz4HCa\"><img align=\"left\"  src=\"https://colab.research.google.com/assets/colab-badge.svg\" alt=\"Open in Colab\" title=\"Open and Execute in Google Colaboratory\"></a>&nbsp; &nbsp;<a href=\"\"><img align=\"left\" src=\"http://www.lapix.ufsc.br/wp-content/uploads/2019/04/License-CC-BY-ND-4.0-orange.png\" alt=\"Creative Commons 4.0 License\" title=\"Creative Commons 4.0 License\"></a>&nbsp; &nbsp; <a href=\"\"><img align=\"left\" src=\"http://www.lapix.ufsc.br/wp-content/uploads/2019/04/Jupyter-Notebook-v.1.0-blue.png\" alt=\"Jupyter Version\" title=\"Jupyter Version\"></a>&nbsp; &nbsp;<a href=\"\"><img align=\"left\"  src=\"http://www.lapix.ufsc.br/wp-content/uploads/2019/04/Python-v.3.7-green.png\" alt=\"Python Version\" title=\"Python Version\"></a>"
   ]
  },
  {
   "cell_type": "markdown",
   "metadata": {},
   "source": [
    "## SymPy\n",
    "\n",
    "SymPy is a Python library for symbolic mathematics. It aims to become a full-featured computer algebra system (CAS) while keeping the code as simple as possible in order to be comprehensible and easily extensible. \n",
    "\n",
    " * [SymPy Homepage](https://www.sympy.org/en/index.html)"
   ]
  },
  {
   "cell_type": "code",
   "execution_count": null,
   "metadata": {},
   "outputs": [],
   "source": [
    "# Install the package\n",
    "!conda install sympy"
   ]
  },
  {
   "cell_type": "code",
   "execution_count": null,
   "metadata": {},
   "outputs": [],
   "source": [
    "# If you don't use Anaconda then:\n",
    "!pip install sympy"
   ]
  },
  {
   "cell_type": "markdown",
   "metadata": {},
   "source": [
    "## Initializations"
   ]
  },
  {
   "cell_type": "code",
   "execution_count": 44,
   "metadata": {},
   "outputs": [],
   "source": [
    "%reload_ext autoreload\n",
    "%autoreload 2\n",
    "%matplotlib inline"
   ]
  },
  {
   "cell_type": "code",
   "execution_count": 25,
   "metadata": {},
   "outputs": [],
   "source": [
    "# Import symbolic computation packages\n",
    "from sympy import *\n",
    "from sympy.geometry import Point\n",
    "# Import algebraic symbols capabilities\n",
    "from sympy import symbols\n",
    "# Allow for some pretty printing...\n",
    "# If you're using Jupyter Notebooks uncomment this one:\n",
    "init_printing(use_unicode=True)\n",
    "# If you're using Google Colab uncomment this one:\n",
    "# init_printing(use_latex=False)\n",
    "# If nothing works, the use this last resort, painting the formulas with matplotlib:\n",
    "# init_printing(use_latex='matplotlib')"
   ]
  },
  {
   "cell_type": "markdown",
   "metadata": {},
   "source": [
    "## A simple example from Computer Graphics: Bèzier Curve in 2D\n",
    "\n",
    "Usefull infos:\n",
    " * https://docs.sympy.org/latest/tutorial/matrices.html\n",
    " \n",
    " Remember:\n",
    " * the general formula of a Parametric Curve is T * M * G, where:\n",
    "   * T is the line matrix that represents the parameter vector,\n",
    "   * M is the square method matrix (Hermite, Bèzier or B-Spline) and\n",
    "   * G is the column geometry vector"
   ]
  },
  {
   "cell_type": "code",
   "execution_count": 31,
   "metadata": {},
   "outputs": [
    {
     "data": {
      "text/latex": [
       "$\\displaystyle \\left[\\begin{matrix}t^{3} & t^{2} & t & 1\\end{matrix}\\right]$"
      ],
      "text/plain": [
       "⎡ 3   2      ⎤\n",
       "⎣t   t   t  1⎦"
      ]
     },
     "execution_count": 31,
     "metadata": {},
     "output_type": "execute_result"
    }
   ],
   "source": [
    "# SymPy always considers a sequence of scalars to be building a Column Matrix.\n",
    "# In order to build a Line Matrix you'll have to transpose it after creation...\n",
    "t = symbols('t')\n",
    "T = Matrix([t**3, t**2, t, 1])\n",
    "T = T.transpose()\n",
    "T"
   ]
  },
  {
   "cell_type": "code",
   "execution_count": 46,
   "metadata": {},
   "outputs": [
    {
     "data": {
      "text/latex": [
       "$\\displaystyle \\left[\\begin{matrix}-1 & 3 & -3 & 1\\\\3 & -6 & 3 & 0\\\\-3 & 3 & 0 & 0\\\\1 & 0 & 0 & 0\\end{matrix}\\right]$"
      ],
      "text/plain": [
       "⎡-1  3   -3  1⎤\n",
       "⎢             ⎥\n",
       "⎢3   -6  3   0⎥\n",
       "⎢             ⎥\n",
       "⎢-3  3   0   0⎥\n",
       "⎢             ⎥\n",
       "⎣1   0   0   0⎦"
      ]
     },
     "execution_count": 46,
     "metadata": {},
     "output_type": "execute_result"
    }
   ],
   "source": [
    "# Create the Bèzier Method Matrix Mb\n",
    "Mb = Matrix([[-1, 3, -3, 1], [3,-6, 3, 0], [-3, 3, 0, 0],[1, 0, 0, 0]])\n",
    "Mb"
   ]
  },
  {
   "cell_type": "markdown",
   "metadata": {},
   "source": [
    "Now, test T * M:"
   ]
  },
  {
   "cell_type": "code",
   "execution_count": 32,
   "metadata": {},
   "outputs": [
    {
     "data": {
      "text/latex": [
       "$\\displaystyle \\left[\\begin{matrix}- t^{3} + 3 t^{2} - 3 t + 1 & 3 t^{3} - 6 t^{2} + 3 t & - 3 t^{3} + 3 t^{2} & t^{3}\\end{matrix}\\right]$"
      ],
      "text/plain": [
       "⎡   3      2               3      2             3      2   3⎤\n",
       "⎣- t  + 3⋅t  - 3⋅t + 1  3⋅t  - 6⋅t  + 3⋅t  - 3⋅t  + 3⋅t   t ⎦"
      ]
     },
     "execution_count": 32,
     "metadata": {},
     "output_type": "execute_result"
    }
   ],
   "source": [
    "T * Mb"
   ]
  },
  {
   "cell_type": "markdown",
   "metadata": {},
   "source": [
    " * https://docs.sympy.org/latest/modules/geometry/points.html"
   ]
  },
  {
   "cell_type": "code",
   "execution_count": 10,
   "metadata": {},
   "outputs": [
    {
     "data": {
      "image/png": "[encoded data removed]",
      "text/latex": [
       "$\\displaystyle \\left( Point2D\\left(1, 1\\right), \\  Point2D\\left(2, 2\\right), \\  Point2D\\left(3, 2\\right), \\  Point2D\\left(4, 1\\right)\\right)$"
      ],
      "text/plain": [
       "(Point2D(1, 1), Point2D(2, 2), Point2D(3, 2), Point2D(4, 1))"
      ]
     },
     "execution_count": 10,
     "metadata": {},
     "output_type": "execute_result"
    }
   ],
   "source": [
    "# Create 2D points from our example\n",
    "p1 = Point2D(1, 1)\n",
    "p2 = Point2D(2, 2)\n",
    "p3 = Point2D(3, 2)\n",
    "p4 = Point2D(4, 1)\n",
    "p1, p2, p3, p4"
   ]
  },
  {
   "cell_type": "code",
   "execution_count": 34,
   "metadata": {},
   "outputs": [
    {
     "data": {
      "text/latex": [
       "$\\displaystyle \\left[\\begin{matrix}1\\\\2\\\\3\\\\4\\end{matrix}\\right]$"
      ],
      "text/plain": [
       "⎡1⎤\n",
       "⎢ ⎥\n",
       "⎢2⎥\n",
       "⎢ ⎥\n",
       "⎢3⎥\n",
       "⎢ ⎥\n",
       "⎣4⎦"
      ]
     },
     "execution_count": 34,
     "metadata": {},
     "output_type": "execute_result"
    }
   ],
   "source": [
    "Gx = Matrix([p1.x, p2.x, p3.x, p4.x])\n",
    "Gy = Matrix([p1.y, p2.y, p3.y, p4.y])\n",
    "Gx"
   ]
  },
  {
   "cell_type": "code",
   "execution_count": 15,
   "metadata": {},
   "outputs": [
    {
     "data": {
      "text/latex": [
       "$\\displaystyle \\left[\\begin{matrix}1\\\\2\\\\2\\\\1\\end{matrix}\\right]$"
      ],
      "text/plain": [
       "⎡1⎤\n",
       "⎢ ⎥\n",
       "⎢2⎥\n",
       "⎢ ⎥\n",
       "⎢2⎥\n",
       "⎢ ⎥\n",
       "⎣1⎦"
      ]
     },
     "execution_count": 15,
     "metadata": {},
     "output_type": "execute_result"
    }
   ],
   "source": [
    "Gy"
   ]
  },
  {
   "cell_type": "markdown",
   "metadata": {},
   "source": [
    "Generate the Blending function for the x-Coordinates:"
   ]
  },
  {
   "cell_type": "code",
   "execution_count": 40,
   "metadata": {},
   "outputs": [
    {
     "data": {
      "image/png": "[encoded data removed]",
      "text/latex": [
       "$\\displaystyle 3 t + 1$"
      ],
      "text/plain": [
       "3⋅t + 1"
      ]
     },
     "execution_count": 40,
     "metadata": {},
     "output_type": "execute_result"
    }
   ],
   "source": [
    "fx = T * Mb * Gx\n",
    "# fx is still a unitary matrix, so you'll have to extract the expression\n",
    "# from the zeroeth position of the matrix:\n",
    "fx = fx[0]\n",
    "fx"
   ]
  },
  {
   "cell_type": "markdown",
   "metadata": {},
   "source": [
    "Generate the Blending function for the y-Coordinates:"
   ]
  },
  {
   "cell_type": "code",
   "execution_count": 41,
   "metadata": {},
   "outputs": [
    {
     "data": {
      "image/png": "[encoded data removed]",
      "text/latex": [
       "$\\displaystyle - 3 t^{2} + 3 t + 1$"
      ],
      "text/plain": [
       "     2          \n",
       "- 3⋅t  + 3⋅t + 1"
      ]
     },
     "execution_count": 41,
     "metadata": {},
     "output_type": "execute_result"
    }
   ],
   "source": [
    "fy = T * Mb * Gy\n",
    "# fy is still a unitary matrix, so you'll have to extract the expression\n",
    "# from the zeroeth position of the matrix:\n",
    "fy = fy[0]\n",
    "fy"
   ]
  },
  {
   "cell_type": "markdown",
   "metadata": {},
   "source": [
    "### Plot it!\n",
    "\n",
    "* https://docs.sympy.org/latest/modules/geometry/lines.html\n",
    "* https://pythonforundergradengineers.com/sympy-expressions-and-equations.html\n",
    "\n",
    "Create a loop and substitute the values of the expressions:"
   ]
  },
  {
   "cell_type": "code",
   "execution_count": 43,
   "metadata": {},
   "outputs": [
    {
     "name": "stdout",
     "output_type": "stream",
     "text": [
      "x: 1  y: 1\n",
      "x: 1.60000000000000  y: 1.48000000000000\n",
      "x: 2.20000000000000  y: 1.72000000000000\n",
      "x: 2.80000000000000  y: 1.72000000000000\n",
      "x: 3.40000000000000  y: 1.48000000000000\n",
      "x: 4.00000000000000  y: 1.00000000000000\n"
     ]
    }
   ],
   "source": [
    "ts = [0.0, 0.2, 0.4, 0.6, 0.8, 1.0]\n",
    "\n",
    "for ti in ts:\n",
    "    # Substitutes the variable 't' for the value of 'ti'\n",
    "    x = fx.subs(t, ti)\n",
    "    y = fy.subs(t, ti)\n",
    "    print('x:', x, ' y:', y)"
   ]
  }
 ],
 "metadata": {
  "kernelspec": {
   "display_name": "Python 3",
   "language": "python",
   "name": "python3"
  },
  "language_info": {
   "codemirror_mode": {
    "name": "ipython",
    "version": 3
   },
   "file_extension": ".py",
   "mimetype": "text/x-python",
   "name": "python",
   "nbconvert_exporter": "python",
   "pygments_lexer": "ipython3",
   "version": "3.6.9"
  },
  "varInspector": {
   "cols": {
    "lenName": "20",
    "lenType": "20",
    "lenVar": "60"
   },
   "kernels_config": {
    "python": {
     "delete_cmd_postfix": "",
     "delete_cmd_prefix": "del ",
     "library": "var_list.py",
     "varRefreshCmd": "print(var_dic_list())"
    },
    "r": {
     "delete_cmd_postfix": ") ",
     "delete_cmd_prefix": "rm(",
     "library": "var_list.r",
     "varRefreshCmd": "cat(var_dic_list()) "
    }
   },
   "types_to_exclude": [
    "module",
    "function",
    "builtin_function_or_method",
    "instance",
    "_Feature"
   ],
   "window_display": false
  }
 },
 "nbformat": 4,
 "nbformat_minor": 2
}
