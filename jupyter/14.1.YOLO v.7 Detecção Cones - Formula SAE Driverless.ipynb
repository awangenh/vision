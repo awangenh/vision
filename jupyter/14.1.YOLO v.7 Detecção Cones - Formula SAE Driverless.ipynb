{
 "cells": [
  {
   "cell_type": "markdown",
   "metadata": {
    "id": "7R2j7l8RCwx4"
   },
   "source": [
    "<img src=\"https://drive.google.com/uc?id=181S0KcAdGeAajZ1apcbOvoh3wvYuKtzd\">\n",
    "\n",
    "<a href=\"https://colab.research.google.com/github/jakevdp/PythonDataScienceHandbook/blob/master/notebooks/01.00-IPython-Beyond-Normal-Python.ipynb\"><img align=\"left\"  src=\"https://colab.research.google.com/assets/colab-badge.svg\" alt=\"Open in Colab\" title=\"Open and Execute in Google Colaboratory\"></a>&nbsp; &nbsp;<a href=\"\"><img align=\"left\" src=\"http://www.lapix.ufsc.br/wp-content/uploads/2019/04/License-CC-BY-ND-4.0-orange.png\" alt=\"Creative Commons 4.0 License\" title=\"Creative Commons 4.0 License\"></a>&nbsp; &nbsp; <a href=\"\"><img align=\"left\" src=\"http://www.lapix.ufsc.br/wp-content/uploads/2019/04/Jupyter-Notebook-v.1.0-blue.png\" alt=\"Jupyter Version\" title=\"Jupyter Version\"></a>&nbsp; &nbsp;<a href=\"\"><img align=\"left\"  src=\"https://img.shields.io/badge/python-3.10-green\" alt=\"Python Version\" title=\"Python Version\"></a>\n",
    "\n",
    "## Autores:\n",
    "\n",
    "*   Aldo von Wangenheim (aldo.vw@ufsc.br)\n",
    "*   Rodrigo de Paula e Silva Ribeiro (ribeiro.rodrigo@posgrad.ufsc.br)\n",
    "\n",
    "\n",
    "CERTIFIQUE-SE DE TER INCIADO O AMBIENTE EM MODO <b>GPU</b> ANTES DE REALIZAR OS PROCEDIMENTOS.<br>\n",
    "NA TROCA DO AMBIENTE ELE <b><u>PERDE</u></b> TODOS OS DADOS BAIXADOS.\n",
    "\n",
    "AO RE-EXECUTAR OS PROCEDIMENTOS (ex. diminuir o batch size), <br>REINICIE O AMBIENTE PARA LIBERAR O CACHE DO PYTORCH (reiniciar não perde os dados da sessão).<br>(alt+m ou pelo menu \"Ambiente de Execução\")\n",
    "\n",
    "EXECUTE UTILIZANDO RUN ALL ou CTRL+F9"
   ]
  },
  {
   "cell_type": "code",
   "execution_count": null,
   "metadata": {
    "colab": {
     "base_uri": "https://localhost:8080/"
    },
    "executionInfo": {
     "elapsed": 316,
     "status": "ok",
     "timestamp": 1669086987459,
     "user": {
      "displayName": "Rodrigo Ribeiro",
      "userId": "10521807329412892963"
     },
     "user_tz": 180
    },
    "id": "i9BV-PR-W1u2",
    "outputId": "058194d2-9599-42f9-fd36-00d330960f7d"
   },
   "outputs": [],
   "source": [
    "!nvidia-smi\n",
    "!nvcc --version"
   ]
  },
  {
   "cell_type": "markdown",
   "metadata": {},
   "source": [
    "### Selecionar GPU e PATH"
   ]
  },
  {
   "cell_type": "code",
   "execution_count": null,
   "metadata": {},
   "outputs": [],
   "source": [
    "!nvcc --version\n",
    "\n",
    "try:\n",
    "    import google.colab\n",
    "    _ON_COLAB = True\n",
    "except:\n",
    "    _ON_COLAB = False\n",
    "    %reload_ext autoreload\n",
    "    %autoreload 2\n",
    "    %matplotlib inline\n",
    "    from IPython import get_ipython\n",
    "    \n",
    "print('Running on Google Colab = ', _ON_COLAB)\n",
    "import os\n",
    "import torch\n",
    "\n",
    "# Definir o caminho base\n",
    "if _ON_COLAB:\n",
    "    BASE_PATH = \"/content\"\n",
    "    import locale\n",
    "    locale.getpreferredencoding = lambda: \"UTF-8\"\n",
    "else:\n",
    "    BASE_PATH = \"/lapix\" # trocar para o base path do seu computador se estiver rodando localmente, deixar /lapix se estiver rodando nos conteiners lapix\n",
    "    VISIBLE_GPUS = [7] # Selecionar a GPU PARA RODAR! VER QUAL ESTA LIVRE\n",
    "\n",
    "    if torch.cuda.device_count() != 8:\n",
    "        print(\"GPU SETADA - PULANDO ETAPA\")\n",
    "    else:\n",
    "        os.environ[\"CUDA_VISIBLE_DEVICES\"] = str(VISIBLE_GPUS).replace(\"]\", \"\").replace(\"[\",\"\").replace(\" \", \"\")\n",
    "        os.environ[\"NVIDIA_VISIBLE_DEVICES\"] = str(VISIBLE_GPUS).replace(\"]\", \"\").replace(\"[\",\"\").replace(\" \", \"\")\n",
    "        print(\"CUDA GPUS NUMBER: \", torch.cuda.device_count())\n",
    "    \n",
    "os.chdir(BASE_PATH) # garantir que está executando no caminho base definido"
   ]
  },
  {
   "cell_type": "markdown",
   "metadata": {
    "id": "1TllDbGRUnk6"
   },
   "source": [
    "# O que é YOLO?\n",
    "YOLO (“You Only Look Once”), é uma série de detectores de objetos de processamento rápido que vem sendo desenvolvida por diversos autores. Ao contrário dos detectores tradicionais que utilizam áreas de interesse para propor regiões (ROI) que podem conter um objeto na imagem (conhecidos como detectores de 2-estágios), a arquitetura YOLO divide a imagem em grids e vasculha a imagem como um todo (detector de um único estágio).\n",
    "\n",
    "Neste notebook didático, é utilizado a versão 7 desta arquitetura.<br>\n",
    "Algumas notas sobre a versão 7:<br>\n",
    "* Em versões prévias era apenas possível utilizar detecção baseada em bounding box, já na versão 7 é possível utilizar também segmentação por instância e keypoint.\n",
    "* Na versão 7, utiliza-se apenas o método OneCycle para otimização da Learning Rate, portanto não é necessário definir uma Learning Rate, a não ser que seja desejável utilizar Learning Rate fixa (linear).\n",
    "* Foi conceitualizada pelos mesmos autores da YoloV4, Scaled-YoloV4 e YoloR. De fato é uma versão baseada na Scaled-YoloV4 com muitas melhorias.\n",
    "* Diferente de outras versões que os pesos eram pré-treinados no conjunto imagenet, a versão 7, assim como a Scaled YoloV4, é pré-treinada no [COCO Dataset](https://cocodataset.org/#home).\n",
    "\n",
    "Diferentemente do Detectron2 (framework customizável), YOLO é uma arquitetura parametrizada e única, embora é possível alterar diversos parâmetros no arquivo train.py oficial, muitas alterações ou valores muito diferentes podem descaracterizar a rede perdendo a sua capacidade de atingir resultados SOTA (state of the art).\n",
    "\n",
    "Neste notebook apenas alguns parâmetros de performance são editáveis, para editar parâmetros mais específicos ou até mesmo implementar modificações, é recomendável ler e se familiarizar com a arquitetura.\n",
    "\n",
    "Links:<br>\n",
    "[Link Artigo](https://arxiv.org/abs/2207.02696) <br>\n",
    "[Link git](https://github.com/WongKinYiu/yolov7)\n"
   ]
  },
  {
   "cell_type": "markdown",
   "metadata": {
    "id": "MrLaA--UTwnj"
   },
   "source": [
    "# Instalação do YoloV7 do repositório oficial e suas dependências."
   ]
  },
  {
   "cell_type": "code",
   "execution_count": null,
   "metadata": {
    "colab": {
     "base_uri": "https://localhost:8080/"
    },
    "executionInfo": {
     "elapsed": 10256,
     "status": "ok",
     "timestamp": 1669087055778,
     "user": {
      "displayName": "Rodrigo Ribeiro",
      "userId": "10521807329412892963"
     },
     "user_tz": 180
    },
    "id": "PfRGCg8rbWmp",
    "outputId": "1c77acc9-18b8-4b4d-fe17-f0aab3f987c4"
   },
   "outputs": [],
   "source": [
    "!git clone https://github.com/WongKinYiu/yolov7\n",
    "%cd yolov7\n",
    "!pip install -r requirements.txt"
   ]
  },
  {
   "cell_type": "markdown",
   "metadata": {
    "id": "xOZzHrymT_Wv"
   },
   "source": [
    "# Montar o google drive\n",
    "As 'runs' de treino serão salvas na pasta \"aula_yolov7\" no seu drive."
   ]
  },
  {
   "cell_type": "code",
   "execution_count": null,
   "metadata": {
    "colab": {
     "base_uri": "https://localhost:8080/"
    },
    "executionInfo": {
     "elapsed": 28647,
     "status": "ok",
     "timestamp": 1669087099456,
     "user": {
      "displayName": "Rodrigo Ribeiro",
      "userId": "10521807329412892963"
     },
     "user_tz": 180
    },
    "id": "aNjMVBzfT30G",
    "outputId": "bedb0e8d-4233-4fad-981d-f43cf55f7c48"
   },
   "outputs": [],
   "source": [
    "from google.colab import drive\n",
    "drive.mount('/content/gdrive', force_remount=False)"
   ]
  },
  {
   "cell_type": "markdown",
   "metadata": {
    "id": "fM6ZuDTLV-Xh"
   },
   "source": [
    "# Baixar o dataset de cones já no formato YOLO\n",
    "O dataset de cones tem por objetivo possibilitar identificar diferentes tipos de cones sinalizadores de trânsito.<br>\n",
    "É um conjunto anotado no formato \"bounding box\" para detecção de objetos.<br>\n",
    "O conjunto possui 5 classes distintas:\n",
    "* blue_cone\n",
    "* large_orange_cone\n",
    "* orange_cone\n",
    "* yellow_cone\n",
    "* unknown_cone\n",
    "\n",
    "Amostra de anotações:<br>\n",
    "<img src=\"https://drive.google.com/uc?id=1WgjF0WaRLahBQyLRCAWScPSpIAFkgzJu\">\n",
    "<img src=\"https://drive.google.com/uc?id=1WgAlliwetRb4zBE_0AUMQvxrtjp4A4_e\">\n",
    "<img src=\"https://drive.google.com/uc?id=15t9g5d9PfRJx_Iss7qhP1vvBHPbNgQoX\">\n",
    "<img src=\"https://drive.google.com/uc?id=1KErMuro6T0_w17d6Gqfgtwv76h6CarNW\">"
   ]
  },
  {
   "cell_type": "code",
   "execution_count": null,
   "metadata": {
    "colab": {
     "base_uri": "https://localhost:8080/"
    },
    "executionInfo": {
     "elapsed": 56374,
     "status": "ok",
     "timestamp": 1669087169891,
     "user": {
      "displayName": "Rodrigo Ribeiro",
      "userId": "10521807329412892963"
     },
     "user_tz": 180
    },
    "id": "Bu6VgY8uV2u4",
    "outputId": "b3fa2f0c-848f-4703-e6ad-80df576ee676"
   },
   "outputs": [],
   "source": [
    "import os\n",
    "os.chdir(\"/content/\")\n",
    "!gdown 11bEzhQELv4bFUBaQEN_fPdc67BPnKwcq\n",
    "os.makedirs(\"/content/dataset\", exist_ok=True)\n",
    "%mv yolo_v7_cones_dataset.zip /content/dataset/\n",
    "os.chdir(\"/content/dataset\")\n",
    "!unzip -qq -u yolo_v7_cones_dataset.zip\n",
    "!rm -rf yolo_v7_cones_dataset.zip\n",
    "os.chdir(\"/content/\")"
   ]
  },
  {
   "cell_type": "markdown",
   "metadata": {
    "id": "1LecEvYduXdc"
   },
   "source": [
    "# Baixar o peso do modelo padrão para transfer learning.\n",
    "Para mais opções de pesos pré-treinados e modelos maiores/menores, ver o github oficial do [YoloV7](https://github.com/WongKinYiu/yolov7)."
   ]
  },
  {
   "cell_type": "code",
   "execution_count": null,
   "metadata": {
    "colab": {
     "base_uri": "https://localhost:8080/"
    },
    "executionInfo": {
     "elapsed": 5219,
     "status": "ok",
     "timestamp": 1669087183998,
     "user": {
      "displayName": "Rodrigo Ribeiro",
      "userId": "10521807329412892963"
     },
     "user_tz": 180
    },
    "id": "52uZgsQLuSO2",
    "outputId": "4c8959b3-d490-4d9d-d4d5-b8bc8b133b9f"
   },
   "outputs": [],
   "source": [
    "%cd /content/yolov7\n",
    "!wget https://github.com/WongKinYiu/yolov7/releases/download/v0.1/yolov7_training.pt"
   ]
  },
  {
   "cell_type": "markdown",
   "metadata": {
    "id": "xfJYfYewjzuc"
   },
   "source": [
    "# Parâmetros básicos\n",
    "Implementação de edição dos parâmetros básicos de performance do Yolo v7.<br>\n",
    "Para parâmetros opcionais e outros, ver [este código do git (linhas 527 à 565)](https://github.com/WongKinYiu/yolov7/blob/main/train.py) e adequar o código.<br>\n",
    "\n"
   ]
  },
  {
   "cell_type": "code",
   "execution_count": null,
   "metadata": {
    "id": "1V4_MW1SXGY_"
   },
   "outputs": [],
   "source": [
    "# Definir onde salvar os resultados de treino\n",
    "SAVE_PATH = \"/content/gdrive/MyDrive/aula_yolov7/\"\n",
    "os.makedirs(SAVE_PATH, exist_ok=True)\n",
    "\n",
    "# Definir o batch size\n",
    "BATCH_SIZE = 16\n",
    "\n",
    "# Definir o número de épocas de treino\n",
    "EPOCHS = 1\n",
    "\n",
    "# Definir o formato de imagem para rede\n",
    "IM_SIZE = \"640 640\" # padrão 640 640, imagem menor = mais rápido, menos preciso em objetos pequenos; imagem maior = mais lento, mais preciso em objetos pequenos."
   ]
  },
  {
   "cell_type": "code",
   "execution_count": null,
   "metadata": {
    "colab": {
     "base_uri": "https://localhost:8080/"
    },
    "executionInfo": {
     "elapsed": 2895011,
     "status": "ok",
     "timestamp": 1669081222129,
     "user": {
      "displayName": "Rodrigo Ribeiro",
      "userId": "10521807329412892963"
     },
     "user_tz": 180
    },
    "id": "dNs2zbG9UwsX",
    "outputId": "ee86f894-e13e-4fb9-a83e-15e32733635d"
   },
   "outputs": [],
   "source": [
    "%cd /content/yolov7\n",
    "!python train.py --batch $BATCH_SIZE --epochs $EPOCHS --img-size $IM_SIZE --data \"/content/dataset/data.yaml\" --weights 'yolov7_training.pt' --device 0 --project $SAVE_PATH"
   ]
  },
  {
   "cell_type": "markdown",
   "metadata": {
    "id": "ROBTBM-0ae1W"
   },
   "source": [
    "# Realizar inferência de métricas no conjunto de validação (val/valid)"
   ]
  },
  {
   "cell_type": "code",
   "execution_count": null,
   "metadata": {
    "colab": {
     "base_uri": "https://localhost:8080/"
    },
    "executionInfo": {
     "elapsed": 47650,
     "status": "ok",
     "timestamp": 1669088231025,
     "user": {
      "displayName": "Rodrigo Ribeiro",
      "userId": "10521807329412892963"
     },
     "user_tz": 180
    },
    "id": "2SW0POpwYodO",
    "outputId": "22695cf8-8749-4d03-f379-3fc85a045b44"
   },
   "outputs": [],
   "source": [
    "curr_weight = SAVE_PATH + \"exp/weights/best.pt\" # trocar exp por exp1/exp2/exp3 conforme o número do último treino gerado. É incrementado automaticamente.\n",
    "!python test.py --data \"/content/dataset/data.yaml\" --batch $BATCH_SIZE --conf-thres 0.5 --iou-thres 0.5 --device 0 --weights \"$curr_weight\" --name yolov7_validation"
   ]
  },
  {
   "cell_type": "markdown",
   "metadata": {
    "id": "zlqoOJKyggIm"
   },
   "source": [
    "# Visualização dos gráficos das métricas"
   ]
  },
  {
   "cell_type": "code",
   "execution_count": null,
   "metadata": {
    "colab": {
     "base_uri": "https://localhost:8080/",
     "height": 1000
    },
    "executionInfo": {
     "elapsed": 2665,
     "status": "ok",
     "timestamp": 1669089805358,
     "user": {
      "displayName": "Rodrigo Ribeiro",
      "userId": "10521807329412892963"
     },
     "user_tz": 180
    },
    "id": "61qauyC1f6M7",
    "outputId": "10fe7a95-0214-4bdf-d4da-33a3578b05e4"
   },
   "outputs": [],
   "source": [
    "from glob import glob\n",
    "metrics_img = glob(\"/content/yolov7/runs/test/yolov7_validation/*.png\")\n",
    "for mi in metrics_img:\n",
    "  img_m = cv2.imread(mi)\n",
    "  cv2_imshow(img_m)\n"
   ]
  },
  {
   "cell_type": "markdown",
   "metadata": {
    "id": "EyUKgAYQYAfX"
   },
   "source": [
    "# Visualizar detecções no conjunto de teste (test)"
   ]
  },
  {
   "cell_type": "code",
   "execution_count": null,
   "metadata": {
    "colab": {
     "base_uri": "https://localhost:8080/"
    },
    "executionInfo": {
     "elapsed": 50021,
     "status": "ok",
     "timestamp": 1669087301773,
     "user": {
      "displayName": "Rodrigo Ribeiro",
      "userId": "10521807329412892963"
     },
     "user_tz": 180
    },
    "id": "DaOhZ8c8YF4S",
    "outputId": "b102317c-e962-4784-aff8-fde83fb3bc10"
   },
   "outputs": [],
   "source": [
    "curr_weight = SAVE_PATH + \"exp/weights/best.pt\" # trocar exp por exp1/exp2/exp3 conforme o número do último treino gerado. É incrementado automaticamente.\n",
    "!python detect.py --weights \"$curr_weight\" --conf 0.5 --source \"/content/dataset/test/images\""
   ]
  },
  {
   "cell_type": "code",
   "execution_count": null,
   "metadata": {
    "colab": {
     "base_uri": "https://localhost:8080/",
     "height": 1000
    },
    "executionInfo": {
     "elapsed": 2827,
     "status": "ok",
     "timestamp": 1669087556350,
     "user": {
      "displayName": "Rodrigo Ribeiro",
      "userId": "10521807329412892963"
     },
     "user_tz": 180
    },
    "id": "zdCa3Hltw7HZ",
    "outputId": "e33b2c42-6bd8-4369-f353-bb8b220a59cf"
   },
   "outputs": [],
   "source": [
    "from glob import glob\n",
    "import os, cv2, random\n",
    "from google.colab.patches import cv2_imshow\n",
    "num_samples = 4 # numero de imagens para visualizar.\n",
    "all_dets = glob('/content/yolov7/runs/detect/exp/*.jpg')\n",
    "for det in random.sample(all_dets, num_samples):\n",
    "  det_img = cv2.imread(det)\n",
    "  cv2_imshow(det_img)"
   ]
  },
  {
   "cell_type": "markdown",
   "metadata": {
    "id": "r7Ww23uSDWlB"
   },
   "source": [
    "<img src=\"http://lapix.ufsc.br/wp-content/uploads/2022/10/rodape-lapix.png\">"
   ]
  }
 ],
 "metadata": {
  "accelerator": "GPU",
  "colab": {
   "provenance": [
    {
     "file_id": "1B8CNybAusEtJPOREiU8ZPTuDQ0BWaQbC",
     "timestamp": 1669135500114
    }
   ],
   "toc_visible": true
  },
  "gpuClass": "standard",
  "kernelspec": {
   "display_name": "Python 3 (ipykernel)",
   "language": "python",
   "name": "python3"
  },
  "language_info": {
   "codemirror_mode": {
    "name": "ipython",
    "version": 3
   },
   "file_extension": ".py",
   "mimetype": "text/x-python",
   "name": "python",
   "nbconvert_exporter": "python",
   "pygments_lexer": "ipython3",
   "version": "3.8.12"
  }
 },
 "nbformat": 4,
 "nbformat_minor": 4
}
